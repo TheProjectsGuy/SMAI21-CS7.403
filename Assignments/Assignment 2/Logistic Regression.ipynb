{
 "cells": [
  {
   "cell_type": "markdown",
   "id": "389ddf1d",
   "metadata": {},
   "source": [
    "#  Logistic Regression Using Gradient Descent "
   ]
  },
  {
   "cell_type": "markdown",
   "id": "850dba90",
   "metadata": {},
   "source": [
    "## Dataset"
   ]
  },
  {
   "cell_type": "code",
   "execution_count": 1,
   "id": "225cdbe5",
   "metadata": {},
   "outputs": [],
   "source": [
    "import numpy as np\n",
    "import matplotlib.pyplot as plt"
   ]
  },
  {
   "cell_type": "code",
   "execution_count": 2,
   "id": "73ed0112",
   "metadata": {},
   "outputs": [],
   "source": [
    "from sklearn.datasets import make_blobs\n",
    "X, y =  make_blobs(n_samples=100, centers=[[2,4],[4,2]], random_state=20)"
   ]
  },
  {
   "cell_type": "code",
   "execution_count": 3,
   "id": "b2ec2927",
   "metadata": {},
   "outputs": [
    {
     "data": {
      "text/plain": [
       "[<matplotlib.lines.Line2D at 0x29ba9c50c40>]"
      ]
     },
     "execution_count": 3,
     "metadata": {},
     "output_type": "execute_result"
    },
    {
     "data": {
      "image/png": "[encoded data removed]",
      "text/plain": [
       "<Figure size 432x288 with 1 Axes>"
      ]
     },
     "metadata": {
      "needs_background": "light"
     },
     "output_type": "display_data"
    }
   ],
   "source": [
    "#Visualize dataset \n",
    "plt.plot(X[:,0][y==0],X[:,1][y==0],'o',color='red')\n",
    "plt.plot(X[:,0][y==1],X[:,1][y==1],'^',color='blue')\n"
   ]
  },
  {
   "cell_type": "markdown",
   "id": "7d51a5a8",
   "metadata": {},
   "source": [
    "## Logistic Regression\n",
    "\n",
    "A brief description of Logistic Regression\n"
   ]
  },
  {
   "cell_type": "markdown",
   "id": "8699d044",
   "metadata": {},
   "source": [
    "A Logistic regression model is frequently used to approximate a function whose output ranges from 0 to 1. The hypothesis function is as shown below\n",
    "\n",
    "$$ h(\\mathbf{x}; \\mathbf{w}, b) = \\sigma \\left( \\mathbf{w}^T \\mathbf{x} + b \\right ) $$\n",
    "\n",
    "Note that $\\mathbf{x}$ is usually the $d$ dimensional input, but it can also be modified to contain some function of the actual inputs. That is, we can create an $\\mathbf{x}$ vector as shown below even if we only get $[x_1, x_2]^T$ as input\n",
    "\n",
    "$$ \n",
    "\\mathbf{x} = \\begin{bmatrix}\n",
    "x_1 \\\\\n",
    "x_2 \\\\\n",
    "\\phi_1 (x_1) \\\\\n",
    "\\phi_1 (x_2) \\\\\n",
    "\\vdots \\\\\n",
    "\\phi_2 (x_1) \\\\\n",
    "\\phi_2 (x_2) \\\\\n",
    "\\vdots\n",
    "\\end{bmatrix}\n",
    "$$\n",
    "\n",
    "Here, functions $\\phi_j$ are called **bias functions** because they introduce new dimensions of the original inputs. The $\\sigma ( \\cdot  )$ is the **sigmoid function** which is defined as\n",
    "\n",
    "$$\\sigma (x) = \\frac{1}{1+e^{-x}}$$\n",
    "\n",
    "It is close to $0$ for a highly negative value, it is close to $1$ for a very high value.\n",
    "Usually, a $1$ is appended with $\\mathbf{x}$ and the $b$ (bias) is added to the weights. So the hypothesis becomes\n",
    "\n",
    "$$ h(\\mathbf{x};\\mathbf{w}) = \\sigma \\left( \\mathbf{w}^T\\mathbf{x} \\right ) = \\frac{1}{1+e^{-\\mathbf{w}^T \\mathbf{x}}} $$\n"
   ]
  },
  {
   "cell_type": "markdown",
   "id": "20d9f861",
   "metadata": {},
   "source": [
    "### Training\n",
    "\n",
    "The $\\mathbf{w}$ vector consists of optimizable weights. This has to be estimated by minimizing a loss function like the **Mean Squared Error** or the squared error. An example loss function is as shown below\n",
    "\n",
    "$$ J = \\frac{1}{2} \\sum_{i} \\left( \\sigma \\left( \\mathbf{w}^T \\mathbf{x}_i \\right ) - y_i \\right )^2 $$\n",
    "\n",
    "The gradient of this has to be calculated over the sigmoid function. The gradient of sigmoid function is as shown below\n",
    "\n",
    "$$ \\frac{d}{dx} \\left( \\sigma (x) \\right ) = \\frac{d}{dx} \\left( \\frac{1}{1+e^{-x}} \\right ) = - \\left( 1 + e^{-x} \\right )^{-2} \\left( -e^{-x} \\right ) = \\frac{e^{-x}}{\\left( 1+e^{-x} \\right )^2} $$\n",
    "\n",
    "This implies\n",
    "\n",
    "$$ \\frac{d}{dx} \\left( \\sigma (x) \\right ) = \\left( \\frac{1}{1+e^{-x}} \\right ) \\left( 1 - \\frac{1}{1+e^{-x}} \\right ) \\Rightarrow \\frac{d}{dx} \\left( \\sigma (x) \\right ) = \\sigma(x) \\left( 1 - \\sigma(x) \\right ) $$\n",
    "\n",
    "Therefore, the gradient calculation for $J$ is given by\n",
    "\n",
    "$$ \\frac{\\partial J}{\\partial \\mathbf{w}} = \\sum_i \\left( \\sigma \\left ( \\mathbf{w}^T \\mathbf{x}_i \\right ) - y_i \\right ) \\frac{d}{d \\mathbf{w}} \\sigma \\left ( \\mathbf{w}^T \\mathbf{x}_i \\right ) $$\n",
    "\n",
    "Which implies\n",
    "\n",
    "$$ \\frac{\\partial J}{\\partial \\mathbf{w}} = \\sum_i \\left [ \\sigma \\left ( \\mathbf{w}^T \\mathbf{x}_i \\right ) - y_i \\right ] \\left [ \\left ( \\sigma \\left ( \\mathbf{w}^T \\mathbf{x}_i \\right ) \\right ) \\left ( 1 - \\sigma \\left ( \\mathbf{w}^T \\mathbf{x}_i \\right ) \\right ) \\right ] \\mathbf{x}_i $$\n",
    "\n",
    "\n"
   ]
  },
  {
   "cell_type": "markdown",
   "id": "eaefbe38",
   "metadata": {},
   "source": [
    "#### Gradient Descent\n",
    "\n",
    "Gradient Descent is an algorithm that is used to find the local minimum of a function through an iterative process. In its simple form, it uses only the first derivative, that is the **gradient**.\n",
    "\n",
    "Say we want to optimize / find the local minimum of function $L(\\mathbf{w})$. We first find the first derivative of this function and the use that derivative to reduce its value. Note that the derivative at a point returns the direction of ascent (increase in value), we're interested in doing the opposite (directionally). We therefore apply the following iteratively (timestep $t$ to $t+1$)\n",
    "\n",
    "$$ \\mathbf{w}_{t+1} = \\mathbf{w}_{t} - \\eta \\, \\frac{\\partial L}{\\partial \\mathbf{w}_t} $$\n",
    "\n",
    "Where $\\eta$ is the learning rate (the step size to take). Note that $L$ is called the **Loss Function** (or the _cost function_) and it exists in the parameter space. We need to create this function such that it finds the correct $\\mathbf{w}$ values at its minimum.\n"
   ]
  },
  {
   "cell_type": "markdown",
   "id": "dcea66ee",
   "metadata": {},
   "source": [
    "### Implementation of Logistic Regression\n"
   ]
  },
  {
   "cell_type": "code",
   "execution_count": 9,
   "id": "9de5e508",
   "metadata": {},
   "outputs": [],
   "source": [
    "class LogisticBasisRegressor:\n",
    "    \"\"\"\n",
    "        Creates a Logistic Regression model with basis functions. Can\n",
    "        accept any range of functions as basis functions. Currently,\n",
    "        only constant learning rate is allowed when training.\n",
    "    \"\"\"\n",
    "\n",
    "    # Sigmoid function\n",
    "    @staticmethod\n",
    "    def _sigmoid(x):\n",
    "        \"\"\"\n",
    "        Returns the sigmoid of the value passed.\n",
    "\n",
    "        Parameters:\n",
    "        - x: float or np.ndarray\n",
    "            The input value or array. If array is passed, sigmoid is\n",
    "            applied element-wise.\n",
    "        \n",
    "        Returns:\n",
    "        - sig_x: float or np.ndarray\n",
    "            The sigmoid function applied to every value of the input\n",
    "        \"\"\"\n",
    "        return 1/(1+np.exp(-x))\n",
    "\n",
    "    # Constructor\n",
    "    def __init__(self, train_x, train_y, basis_fs = None) -> None:\n",
    "        \"\"\"\n",
    "        Creates a LogisticBasisRegressor object that must be given\n",
    "        the training data at initialization. Along with it, it must\n",
    "        also get an array of basis functions (if applicable). Use the\n",
    "        `train` function to train the mode (get correct parameters)\n",
    "        and use the `test` function to get inference.\n",
    "        The final augmented training input data will have dimensions\n",
    "        of (N, d + b*d + 1), the first 'd' columns are as passed,\n",
    "        then for every basis function passed, 'd' columns are added\n",
    "        and then the last column is all ones. The model will\n",
    "        therefore have `d + b*d + 1` parameters (weights and bias).\n",
    "\n",
    "        Paramters:\n",
    "        - train_x: numpy.ndarray    shape: (N, d)\n",
    "            The training input data. Must have 'N' samples, with each\n",
    "            sample having 'd' dimensions. The training data needn't\n",
    "            be augmented (don't add basis fields and bias). This job\n",
    "            is handled internally.\n",
    "        - train_y: numpy.ndarray    shape: (N, 1) or (N,)\n",
    "            The output values of the training samples. Must have 'N'\n",
    "            samples.\n",
    "        - basis_fs: None or list of callable    len: b\n",
    "            List of basis functions to use for every dimension. The\n",
    "            same basis functions are applied to all dimensions of\n",
    "            training input data.\n",
    "        \"\"\"\n",
    "        self.N, self.d = train_x.shape\n",
    "        self.b = 0\n",
    "        # Annotate the training data (x values)\n",
    "        x_train: np.ndarray = train_x\n",
    "        self.basis_funcs = basis_fs\n",
    "        if self.basis_funcs is not None:\n",
    "            self.b = len(self.basis_funcs)\n",
    "            for fnc in self.basis_funcs:\n",
    "                an_x = fnc(train_x)\n",
    "                x_train = np.hstack((x_train, an_x))\n",
    "        self.x_train = x_train\n",
    "        # Output values\n",
    "        self.y_train = np.array(train_y, dtype=float)\n",
    "        # Optimizable parameters\n",
    "        self.weights = np.random.random_sample((self.d*(1+self.b), 1))\n",
    "        self.bias = np.random.random_sample(1)\n",
    "    \n",
    "    # Train the model\n",
    "    def train(self, lr = 0.1, num_iter = 100, init_weights = None, init_bias = None):\n",
    "        \"\"\"\n",
    "        Train the logistic regressor to find the optimal weights and\n",
    "        biases.\n",
    "\n",
    "        Parameters:\n",
    "        - lr: float     default: 0.1\n",
    "            The learning rate to use for gradient descent\n",
    "        - num_iter: int     default: 100\n",
    "            Number of iterations to run the training for\n",
    "        - init_weights: None or numpy.ndarray   shape: (d*(1+b), 1)\n",
    "            Initial weights for training, if array is passed. Else,\n",
    "            if left as None, initialization has random weights.\n",
    "        - init_bias: None or numpy.ndarray      shape: (1, 1)\n",
    "            Initial bias for training, if array or number is passed.\n",
    "            Else, if left as None, initialization has random bias.\n",
    "        \n",
    "        Returns:\n",
    "        - cost_vals: np.ndarray     shape: (num_iter,)\n",
    "            A history of cost values\n",
    "        - param_vals: np.ndarray    shape: (num_iter, M)\n",
    "            A history of parameter (weight and bias) values. M is the\n",
    "            number of weights + 1 (for bias)\n",
    "        - grad_vals: np.ndarray     shape: (num_iter, M)\n",
    "            A history of gradient (changes applied to the weights)\n",
    "            calculations during training.\n",
    "        \"\"\"\n",
    "        if init_weights is not None:\n",
    "            self.weights = np.array(init_weights).reshape(self.d*(1+self.b), 1)\n",
    "        if init_bias is not None:\n",
    "            self.bias = np.array(init_bias).reshape(1, 1)\n",
    "        # Annotate training data\n",
    "        X = np.hstack((self.x_train, np.ones((self.N, 1), dtype=float)))\n",
    "        W = np.vstack((self.weights, self.bias))\n",
    "        # Ensure correct dimensions\n",
    "        X = X.reshape(self.N, self.d*(1+self.b)+1)\n",
    "        Y = np.array(self.y_train).reshape(self.N, 1)\n",
    "        W = W.reshape(self.d*(self.b+1)+1, 1)\n",
    "        # Some hyperparameters\n",
    "        eta = float(lr)\n",
    "        n_iter = int(num_iter)\n",
    "        # X, Y and W will be used hereon\n",
    "        # Logging\n",
    "        param_vals = []\n",
    "        cost_vals = []\n",
    "        grad_vals = []\n",
    "        # --- Batch Gradient Descent ---\n",
    "        for _ in range(n_iter):\n",
    "            # Cost value\n",
    "            sg = self._sigmoid(X@W)\n",
    "            cost_val = np.sum((sg-Y)**2)/2\n",
    "            # Gradient values\n",
    "            dJ = X.T @ ((sg-Y)*sg*(1-sg))\n",
    "            # Log all values\n",
    "            param_vals.append(W.flatten())\n",
    "            grad_vals.append(dJ.flatten())\n",
    "            cost_vals.append(cost_val)\n",
    "            # Gradient descent update\n",
    "            W = W - eta * dJ\n",
    "        self.weights = W[:(self.d*(1+self.b))]\n",
    "        self.bias = W[-1]\n",
    "        # Make all logs numpy arrays\n",
    "        param_vals = np.array(param_vals)\n",
    "        grad_vals = np.array(grad_vals)\n",
    "        cost_vals = np.array(cost_vals).reshape(-1, 1)\n",
    "        return cost_vals, param_vals, grad_vals\n",
    "    \n",
    "    # Test point\n",
    "    def test(self, x_test):\n",
    "        \"\"\"\n",
    "        Infer the test samples. Run the test point through the\n",
    "        hypothesis function and predicts the output value for each\n",
    "        test point. Note that the `train` function must be called\n",
    "        beforehand.\n",
    "\n",
    "        Parameters:\n",
    "        - x_test: numpy.ndarray     shape: (K, d)\n",
    "            Test samples, K datapoints with d dimensions each. This\n",
    "            must be from the same underlying probability distribution\n",
    "            as the training set.\n",
    "        \n",
    "        Returns:\n",
    "        - predY: numpy.ndarray      shape: (K, 1)\n",
    "            Hypothesis output value using the weights and bias\n",
    "            obtained after training.\n",
    "        \"\"\"\n",
    "        X_test = np.array(x_test).reshape(-1, self.d)\n",
    "        K, d = X_test.shape\n",
    "        assert d == self.d, \"Dimensionality mismatch of training and test data\"\n",
    "        # Augment the X (basis functions and bias field)\n",
    "        augX_test = X_test\n",
    "        if self.basis_funcs is not None:\n",
    "            for fnc in self.basis_funcs:\n",
    "                ax = fnc(X_test)\n",
    "                augX_test = np.hstack((augX_test, ax))\n",
    "        augX_test = np.hstack((augX_test, np.ones((K, 1), dtype=float)))\n",
    "        W = np.vstack((self.weights, self.bias))\n",
    "        resY = augX_test @ W\n",
    "        return resY"
   ]
  },
  {
   "cell_type": "markdown",
   "id": "f8ec74e0",
   "metadata": {},
   "source": [
    "## Test the Logistic Regression"
   ]
  },
  {
   "cell_type": "code",
   "execution_count": 10,
   "id": "54af4372",
   "metadata": {},
   "outputs": [],
   "source": [
    "# Load all data\n",
    "lbr_model = LogisticBasisRegressor(X, y)\n"
   ]
  },
  {
   "cell_type": "code",
   "execution_count": 11,
   "id": "79481eee",
   "metadata": {},
   "outputs": [],
   "source": [
    "# Train the model\n",
    "hist_c, hist_w, hist_g = lbr_model.train()"
   ]
  },
  {
   "cell_type": "markdown",
   "id": "1623c893",
   "metadata": {},
   "source": [
    "Visualize everything\n"
   ]
  },
  {
   "cell_type": "code",
   "execution_count": 17,
   "id": "089f0a3c",
   "metadata": {},
   "outputs": [
    {
     "data": {
      "image/png": "[encoded data removed]",
      "text/plain": [
       "<Figure size 432x288 with 1 Axes>"
      ]
     },
     "metadata": {
      "needs_background": "light"
     },
     "output_type": "display_data"
    },
    {
     "name": "stdout",
     "output_type": "stream",
     "text": [
      "Weights: [[ 2.20222991]\n",
      " [-1.56667746]]\n",
      "Bias: [-1.6667686]\n"
     ]
    }
   ],
   "source": [
    "plt.title(\"Cost history\")\n",
    "plt.plot(hist_c)\n",
    "plt.xlabel(\"Num. Iter.\")\n",
    "plt.ylabel(\"Cost\")\n",
    "plt.show()\n",
    "print(f\"Weights: {lbr_model.weights}\")\n",
    "print(f\"Bias: {lbr_model.bias}\")"
   ]
  },
  {
   "cell_type": "code",
   "execution_count": 36,
   "id": "70db84d8",
   "metadata": {},
   "outputs": [
    {
     "data": {
      "text/plain": [
       "(-0.9, 6.5)"
      ]
     },
     "execution_count": 36,
     "metadata": {},
     "output_type": "execute_result"
    },
    {
     "data": {
      "image/png": "[encoded data removed]",
      "text/plain": [
       "<Figure size 432x288 with 1 Axes>"
      ]
     },
     "metadata": {
      "needs_background": "light"
     },
     "output_type": "display_data"
    }
   ],
   "source": [
    "# Visualize the data (with decision boundary)\n",
    "xlims = [0, 6.5]\n",
    "w1, w2 = map(float, lbr_model.weights)\n",
    "b = float(lbr_model.bias)\n",
    "x2_x1 = lambda x1: (-b-x1*w1)/w2\n",
    "plt.plot(X[:,0][y==0],X[:,1][y==0],'o',color='red')\n",
    "plt.plot(X[:,0][y==1],X[:,1][y==1],'^',color='blue')\n",
    "plt.plot([xlims[0], xlims[1]], [x2_x1(xlims[0]), x2_x1(xlims[1])], \n",
    "    'k--')\n",
    "plt.xlim(xlims)\n",
    "plt.ylim(-0.9, 6.5)\n"
   ]
  },
  {
   "cell_type": "code",
   "execution_count": 25,
   "id": "20345033",
   "metadata": {},
   "outputs": [],
   "source": []
  },
  {
   "cell_type": "code",
   "execution_count": 27,
   "id": "22f34fc0",
   "metadata": {},
   "outputs": [],
   "source": []
  },
  {
   "cell_type": "code",
   "execution_count": 26,
   "id": "80249255",
   "metadata": {},
   "outputs": [
    {
     "data": {
      "text/plain": [
       "2.202229913989541"
      ]
     },
     "execution_count": 26,
     "metadata": {},
     "output_type": "execute_result"
    }
   ],
   "source": [
    "w1"
   ]
  },
  {
   "cell_type": "code",
   "execution_count": null,
   "id": "2a56f078",
   "metadata": {},
   "outputs": [],
   "source": []
  }
 ],
 "metadata": {
  "interpreter": {
   "hash": "cf235a2f8960add5d403864f4412dd8f6ed5fc498a1e966cfee28818314a499d"
  },
  "kernelspec": {
   "display_name": "Python [conda env:py36] *",
   "language": "python",
   "name": "python3"
  },
  "language_info": {
   "codemirror_mode": {
    "name": "ipython",
    "version": 3
   },
   "file_extension": ".py",
   "mimetype": "text/x-python",
   "name": "python",
   "nbconvert_exporter": "python",
   "pygments_lexer": "ipython3",
   "version": "3.9.7"
  }
 },
 "nbformat": 4,
 "nbformat_minor": 5
}
