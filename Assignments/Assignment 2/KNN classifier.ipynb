{
 "cells": [
  {
   "cell_type": "markdown",
   "id": "186be3d3",
   "metadata": {},
   "source": [
    "# KNN Classifier"
   ]
  },
  {
   "cell_type": "markdown",
   "id": "3af8d951",
   "metadata": {},
   "source": [
    "Import everything"
   ]
  },
  {
   "cell_type": "code",
   "execution_count": 1,
   "id": "69cac090",
   "metadata": {},
   "outputs": [],
   "source": [
    "# %% Import everything\n",
    "import numpy as np\n",
    "import pandas as pd\n",
    "from matplotlib import pyplot as plt\n",
    "from sklearn.model_selection import train_test_split"
   ]
  },
  {
   "cell_type": "markdown",
   "id": "f5c198ef",
   "metadata": {},
   "source": [
    "## k-Nearest Neighbor\n",
    "\n",
    "Implementation of kNN as a class"
   ]
  },
  {
   "cell_type": "markdown",
   "id": "37cd448f",
   "metadata": {},
   "source": [
    "The k-Nearest Neighbor algorithm has the following steps\n",
    "\n",
    "1. Store all points in the training set in memory\n",
    "2. For each test sample (query item)\n",
    "    1. Sort the stored training data in the order of ascending distance from the query item\n",
    "    2. Pick the first 'k' items in this list of sorted items\n",
    "    3. Return the result of the vote (either majority, or weighed distances)\n",
    "\n",
    "Usually, for large datasets, KDTrees are used to speed up nearest neighbor lookups. In this file, simple arrays are used."
   ]
  },
  {
   "cell_type": "code",
   "execution_count": 2,
   "id": "08c2e399",
   "metadata": {},
   "outputs": [],
   "source": [
    "# %% kNN Class\n",
    "class kNNClassifier:\n",
    "    \"\"\"\n",
    "        A class to wrap around the 'k' nearest neighbor classifier.\n",
    "        Feed it the data, and then use `query` function to query label\n",
    "        values.\n",
    "    \"\"\"\n",
    "\n",
    "    # Euclidean distance metric\n",
    "    @staticmethod\n",
    "    def euclidean_distance(x1, x2):\n",
    "        return np.linalg.norm(x1 - x2)\n",
    "\n",
    "    def __init__(self, k, x_train, y_train):\n",
    "        \"\"\"\n",
    "        Initialize the classifier with data\n",
    "\n",
    "        Parameters:\n",
    "        - k: int\n",
    "            The number of neighbors to use for the classifier\n",
    "        - x_train: numpy.ndarray    shape: n, d\n",
    "            Training data, 'n' samples, 'd' dimensions per sample\n",
    "        - y_train: numpy.ndarray    shape: n, 1\n",
    "            Class values / labels. This classifier works for\n",
    "            multi-class classification\n",
    "        \"\"\"\n",
    "        self.k = int(k)\n",
    "        self.x_data = x_train\n",
    "        self.y_data = y_train\n",
    "        self.y_oneh = pd.get_dummies(self.y_data)\n",
    "        self.ytr_labels = list(self.y_oneh.columns)\n",
    "        # Distance metric\n",
    "        self.d_metric = kNNClassifier.euclidean_distance\n",
    "\n",
    "    # Set distance metric\n",
    "    def set_distance_metric(self, dmetric):\n",
    "        \"\"\"\n",
    "        Sets the distance metric to the given function.\n",
    "\n",
    "        Parameters:\n",
    "        - dmetric: (x1, x2) -> dm\n",
    "            A function that takes two points of shape (d,) and returns\n",
    "            a metric dm (floating point value)\n",
    "        \"\"\"\n",
    "        self.d_metric = dmetric\n",
    "\n",
    "    # Query function\n",
    "    def query_label(self, test_x):\n",
    "        \"\"\"\n",
    "        For the given test sample, find the 'k' nearest neighbors in\n",
    "        the training set and return the most occurring label for those\n",
    "        sampoles.\n",
    "\n",
    "        Parameters:\n",
    "        - test_x: numpy.ndarray     shape: d, 1\n",
    "            A test data point, having the same dimensionality as the\n",
    "            training data given when initializing.\n",
    "\n",
    "        Returns:\n",
    "        - res_label: int\n",
    "            The resulting 'y_data' value of the nearest neighbor\n",
    "        \"\"\"\n",
    "        # Query point\n",
    "        test_x = np.array(test_x, float)\n",
    "        # Distance values\n",
    "        dvals = np.array([self.d_metric(x, test_x) for x in\n",
    "            self.x_data])\n",
    "        # Sorted list\n",
    "        dvals_sorted = np.argsort(dvals)\n",
    "        # Initial 'k' values\n",
    "        init_ki = dvals_sorted[:self.k]\n",
    "        # Labels for the classes (tally of labels)\n",
    "        cli_val = np.sum(self.y_oneh.iloc[init_ki], axis=0)\n",
    "        ki = np.argmax(cli_val)\n",
    "        # Return the label\n",
    "        return self.ytr_labels[ki]\n"
   ]
  },
  {
   "cell_type": "markdown",
   "id": "1d9ac81c",
   "metadata": {},
   "source": [
    "## Data\n",
    "\n",
    "Load data, split and visualize data"
   ]
  },
  {
   "cell_type": "code",
   "execution_count": 3,
   "id": "e0fa6912",
   "metadata": {},
   "outputs": [],
   "source": [
    "# %% Import data (Iris dataset)\n",
    "iris_pd = pd.read_csv(\"Iris.csv\")\n",
    "# Drop the 'Id' column\n",
    "iris_pd = iris_pd.drop(columns=[\"Id\"])\n",
    "# Convert data to points and lables\n",
    "x_labels = [\"SepalLengthCm\", \"SepalWidthCm\", \"PetalLengthCm\",\n",
    "    \"PetalWidthCm\"]\n",
    "X_pd = iris_pd[x_labels]\n",
    "Y_pd = iris_pd[\"Species\"]\n",
    "Y_oh_pd = pd.get_dummies(Y_pd)  # One-hot encoded Y\n",
    "y_classes = list(Y_oh_pd.columns)   # Fields in one-hot"
   ]
  },
  {
   "cell_type": "markdown",
   "id": "d0f764c3",
   "metadata": {},
   "source": [
    "Split data into train and test"
   ]
  },
  {
   "cell_type": "code",
   "execution_count": 4,
   "id": "1ca8135b",
   "metadata": {},
   "outputs": [],
   "source": [
    "# %% Split data\n",
    "# Data and labels in numpy\n",
    "X = np.array(X_pd)\n",
    "Y = np.array(Y_pd)\n",
    "# Training set and test set (split)\n",
    "X_train, X_test, Y_train, Y_test = train_test_split(X, Y,\n",
    "    test_size=0.2, random_state=0)"
   ]
  },
  {
   "cell_type": "code",
   "execution_count": 5,
   "id": "6ca8c19d",
   "metadata": {},
   "outputs": [
    {
     "data": {
      "image/png": "[encoded data removed]",
      "text/plain": [
       "<Figure size 1152x576 with 2 Axes>"
      ]
     },
     "metadata": {
      "needs_background": "light"
     },
     "output_type": "display_data"
    }
   ],
   "source": [
    "# %% Visualize the data\n",
    "# Data-point properties for training data\n",
    "tr_props = {\n",
    "    \"colors\": {\n",
    "        \"Iris-setosa\": \"red\",\n",
    "        \"Iris-versicolor\": \"green\",\n",
    "        \"Iris-virginica\": \"blue\"\n",
    "    },\n",
    "    \"markers\": dict((k, '.') for k in y_classes),\n",
    "    \"label\": {\n",
    "        \"Iris-setosa\": \"Setosa\",\n",
    "        \"Iris-versicolor\": \"Versicolor\",\n",
    "        \"Iris-virginica\": \"Virginica\"\n",
    "    }\n",
    "}\n",
    "# Data-point properties for testing data\n",
    "ts_props = {\n",
    "    \"colors\": tr_props[\"colors\"],\n",
    "    \"markers\": dict((k, '^') for k in y_classes),\n",
    "    \"label\": tr_props[\"markers\"]\n",
    "}\n",
    "# Plot figure\n",
    "fig = plt.figure(\"Iris Dataset\", (16, 8))\n",
    "# Plot for Sepal\n",
    "ax1 = plt.subplot(121)\n",
    "ax2 = plt.subplot(122)\n",
    "# Plot class-wise\n",
    "for g in y_classes:\n",
    "    # Plot training\n",
    "    Xtr_g = X_train[Y_train == g]\n",
    "    Xts_g = X_test[Y_test == g]\n",
    "    ax1.scatter(Xtr_g[:, 0], Xtr_g[:, 1], c=tr_props[\"colors\"][g],\n",
    "        marker=tr_props[\"markers\"][g], label=tr_props[\"label\"][g])\n",
    "    ax2.scatter(Xtr_g[:, 2], Xtr_g[:, 3], c=tr_props[\"colors\"][g],\n",
    "        marker=tr_props[\"markers\"][g], label=tr_props[\"label\"][g])\n",
    "    # Plot test\n",
    "    Xg = X_test[Y_test == g]\n",
    "    ax1.scatter(Xts_g[:, 0], Xts_g[:, 1], c=ts_props[\"colors\"][g],\n",
    "        marker=ts_props[\"markers\"][g], label=ts_props[\"label\"][g])\n",
    "    ax2.scatter(Xts_g[:, 2], Xts_g[:, 3], c=ts_props[\"colors\"][g],\n",
    "        marker=ts_props[\"markers\"][g], label=ts_props[\"label\"][g])\n",
    "ax1.set_title(\"Sepal\")\n",
    "ax2.set_title(\"Petal\")\n",
    "ax1.legend()\n",
    "ax2.legend()\n",
    "ax1.set_xlabel(\"Length\")\n",
    "ax1.set_ylabel(\"Width\")\n",
    "ax2.set_xlabel(\"Length\")\n",
    "ax2.set_ylabel(\"Width\")\n",
    "plt.show()"
   ]
  },
  {
   "cell_type": "markdown",
   "id": "4e3bcda5",
   "metadata": {},
   "source": [
    "## kNN Test\n",
    "\n",
    "Test the points in `X_test`\n"
   ]
  },
  {
   "cell_type": "code",
   "execution_count": 6,
   "id": "9d630fb0",
   "metadata": {},
   "outputs": [
    {
     "name": "stdout",
     "output_type": "stream",
     "text": [
      "Test point: 14, test point: [6.1 2.9 4.7 1.4]\n",
      "\tPredicted: 'Iris-virginica', Actual: 'Iris-versicolor'\n",
      "Total predictions correct: 96.667%\n"
     ]
    }
   ],
   "source": [
    "# %% Main kNN\n",
    "# kNN model\n",
    "knn_model = kNNClassifier(3, X_train, Y_train)\n",
    "# Query\n",
    "total_test = len(X_test)\n",
    "total_pred_corr = 0\n",
    "for tp in range(total_test):\n",
    "    y = knn_model.query_label(X_test[tp])\n",
    "    if Y_test[tp] == y:\n",
    "        total_pred_corr += 1\n",
    "    else:\n",
    "        print(f\"Test point: {tp}, test point: {X_test[tp]}\")\n",
    "        print(f\"\\tPredicted: '{y}', Actual: '{Y_test[tp]}'\")\n",
    "corr_perc = 100*total_pred_corr/total_test\n",
    "print(f\"Total predictions correct: {corr_perc:.3f}%\")"
   ]
  },
  {
   "cell_type": "code",
   "execution_count": null,
   "id": "5d597744",
   "metadata": {},
   "outputs": [],
   "source": []
  }
 ],
 "metadata": {
  "interpreter": {
   "hash": "cf235a2f8960add5d403864f4412dd8f6ed5fc498a1e966cfee28818314a499d"
  },
  "kernelspec": {
   "display_name": "Python [conda env:py36] *",
   "language": "python",
   "name": "python3"
  },
  "language_info": {
   "codemirror_mode": {
    "name": "ipython",
    "version": 3
   },
   "file_extension": ".py",
   "mimetype": "text/x-python",
   "name": "python",
   "nbconvert_exporter": "python",
   "pygments_lexer": "ipython3",
   "version": "3.9.7"
  }
 },
 "nbformat": 4,
 "nbformat_minor": 5
}
