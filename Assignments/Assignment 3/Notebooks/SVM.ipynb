{
  "cells": [
    {
      "cell_type": "markdown",
      "metadata": {
        "id": "KFqwgxfkI9qG"
      },
      "source": [
        "# Support Vector Machines\n",
        "\n",
        "In this section of the assignment, you will get to implement Support Vector Machines which are among the best (and many believe are indeed the best) “off-the-shelf” supervised learning algorithm.\n",
        "\n",
        "This section is further divided into 3 subsections.\n",
        "\n",
        "\n",
        "*   In the first subsection, you will work on a synthetic dataset and visualize the boundary predicted by SVM. You will also vary the value of C-parameter and see how the decision boundary changes. **Please note that you cannot use inbuilt sklearn function for SVM in this sub-section**. You can only use a QCQP (Quadratically Constrained Quadratic Program) solver like CVXPY. \n",
        "\n",
        "  References which you may find helpful for this subsection: \n",
        "  \n",
        "  1.   https://www.cvxpy.org/\n",
        "  2.   https://www.cvxpy.org/examples/basic/quadratic_program.html\n",
        "\n",
        "  Note that in this section you are expected to show how you derived the Quadratically Constrained form(which can be passed into the solver) from the basic principles of SVM algorithm\n",
        "*  In the next subsection you will use be using the famous MNIST dataset to explore various kernels and report the results. **Please note you may use inbuilt sklearn SVM functions in this subsection**\n"
      ]
    },
    {
      "cell_type": "code",
      "execution_count": 1,
      "metadata": {
        "id": "Ub9ArRIDI9qR"
      },
      "outputs": [],
      "source": [
        "import numpy as np\n",
        "import cvxpy as cp\n",
        "import matplotlib.pyplot as plt"
      ]
    },
    {
      "cell_type": "markdown",
      "metadata": {
        "id": "GasJBLV5I9qf"
      },
      "source": [
        "### Subsection 1"
      ]
    },
    {
      "cell_type": "code",
      "execution_count": 2,
      "metadata": {
        "id": "eulkE0pTI9qg"
      },
      "outputs": [],
      "source": [
        "# Feel free to use this helper function to visualize 2D points X with labels +1 or -1\n",
        "def plot_points(X, Y):\n",
        "    reds = []\n",
        "    blues = []\n",
        "    for i in range(Y.shape[0]):\n",
        "        if Y[i] == 1:\n",
        "            reds.append(X[i])\n",
        "        else:\n",
        "            blues.append(X[i])\n",
        "    reds = np.array(reds)\n",
        "    blues = np.array(blues)\n",
        "    plt.scatter(reds[:, 0], reds[:, 1], c = 'r')\n",
        "    plt.scatter(blues[:, 0], blues[:, 1], c = 'b')"
      ]
    },
    {
      "cell_type": "code",
      "execution_count": 3,
      "metadata": {
        "id": "rpWOqtHjI9qi"
      },
      "outputs": [
        {
          "data": {
            "image/png": "[encoded data removed]",
            "text/plain": [
              "<Figure size 432x288 with 1 Axes>"
            ]
          },
          "metadata": {
            "needs_background": "light"
          },
          "output_type": "display_data"
        }
      ],
      "source": [
        "# Create Synthetic Data and visualize the points\n",
        "X = np.array([[-3.5, -1], [-3, 0], [-3, 1], [-2.7, -1.3], [-2, -1], [-2, -2.7], \n",
        "              [-1, -2.5], [0, -3], [-1.1, 0], [0, 2.5], [1, 2], [0.7, 4], \n",
        "              [2.1, 0.2], [2.3, 1], [2.8, 1.8], [2.2, 2.8]])\n",
        "y = np.array([1, 1, 1, 1, 1, 1, 1, 1, -1, -1, -1, -1, -1, -1, -1, -1])\n",
        "\n",
        "plot_points(X, y)\n",
        "plt.show()"
      ]
    },
    {
      "cell_type": "markdown",
      "metadata": {
        "id": "qkXWnVMuI9qk"
      },
      "source": [
        "In the next cell you are required to derive the Quadratic Constrained Quadratic form of SVM **without soft constraints** from the basic principles. Start with the idea that SVM tries to maximize the margin and then derive the form which you can feed to the solver.\n",
        "\n",
        "Please print the values of w, b. \n",
        "\n",
        "**Note: You are also required to upload a page of the derivation. You may also type it in markdown here.**\n",
        "\n",
        "**Note: You cannot use sklearn SVM functions here.**"
      ]
    },
    {
      "cell_type": "markdown",
      "metadata": {},
      "source": [
        "#### Maximum Margin Classifier\n",
        "\n",
        "Say we have labelled (two-class) data-points $(\\mathbf{x}_i, y_i)$. We wish to separate them using a linear decision boundary. This decision boundary can be parameterized by $\\mathbf{w}$ (having the same number of elements as $\\mathbf{x}_i$ values do) and a bias $b$ (so that we allow the decision boundary to _not_ be anchored to the origin). Therefore, the decision boundary is given by\n",
        "\n",
        "$$ f(\\mathbf{x}_i; \\mathbf{w}, b) = \\mathbf{w}^\\top \\mathbf{x}_i - b = 0 $$\n",
        "\n",
        "We'd want a point to be as distant from this boundary as possible. Therefore, we define two _parallel_ lines to this (called as the margins) and define them with the equations\n",
        "\n",
        "$$ \\mathbf{w}^\\top \\mathbf{x} - b = 1 $$\n",
        "\n",
        "If the LHS is greater than $1$, then the class is $\\omega_1$. For the second margin, we have\n",
        "\n",
        "$$ \\mathbf{w}^\\top \\mathbf{x} - b = -1 $$\n",
        "\n",
        "If the LHS is less than $-1$, then the class is $\\omega_{-1}$. We want to **maximize** the distance (gap) between the margins. For this, we need to first find the length of the gap between the margins. Pick a point $\\mathbf{x}_0$ on the second margin $ \\mathbf{w}^\\top \\mathbf{x} - b = -1 $. This means $ \\mathbf{w}^\\top \\mathbf{x}_0 - b = -1 $. Note that the perpendicular unit vector to this line (margin) will be $\\mathbf{w}/\\left \\| \\mathbf{w} \\right \\|$. From $\\mathbf{x}_0$, if we travel along this perpendicular vector for $r$ units (let $r$ be the perpendicular distance between the margins), we must reach the first margin given by $ \\mathbf{w}^\\top \\mathbf{x} - b = 1 $. This point (which lies on this first margin) will be $\\mathbf{x}_0 + \\frac{\\mathbf{w}}{\\left \\| \\mathbf{w} \\right \\|} r$. Substituting this in the second margin and solving for $r$ gives\n",
        "\n",
        "$$ \\mathbf{w}^\\top \\left ( \\mathbf{x}_0 + \\frac{\\mathbf{w}}{\\left \\| \\mathbf{w} \\right \\|} r \\right ) - b = 1 \n",
        "\\Rightarrow \\left ( \\mathbf{w}^\\top \\mathbf{x}_0 - b \\right ) + \\frac{\\mathbf{w}^\\top \\mathbf{w}}{\\left \\| \\mathbf{w} \\right \\|} r = 1\n",
        "\\Rightarrow -1 + \\frac{\\left \\| \\mathbf{w} \\right \\|^2}{\\left \\| \\mathbf{w} \\right \\|} r = 1\n",
        "\\Rightarrow r = \\frac{2}{\\left \\| \\mathbf{w} \\right \\|} $$\n",
        "\n",
        "We need to **maximize** $r$. In order to do that, we can simply minimize $\\left \\| \\mathbf{w} \\right \\|$. But note that we cannot have the trivial solution of $\\mathbf{w} = \\mathbf{0}$ (it'll not be a boundary dependent on data at all!). Additionally, we have constraints _from the data points_ as $\\mathbf{w}^\\top \\mathbf{x}_i - b \\ge 1$ (if $y_i = 1$: the sample belongs to $\\omega_1$) and $\\mathbf{w}^\\top \\mathbf{x}_i - b \\le -1$ (if $y_i = -1$: the sample belongs to $\\omega_{-1}$).\n",
        "\n",
        "Therefore, the problem reduces to: _Minimizing_ $\\left \\| \\mathbf{w} \\right \\|$, _subjected to_ $y_i \\left (\\mathbf{w}^\\top \\mathbf{x}_i - b \\right ) \\ge 1$\n",
        "\n",
        "Use [cvxpy](https://www.cvxpy.org/) to find the optimal $\\mathbf{w}$ and $b$"
      ]
    },
    {
      "cell_type": "code",
      "execution_count": 24,
      "metadata": {
        "id": "cL-jVJH8I9ql"
      },
      "outputs": [
        {
          "name": "stdout",
          "output_type": "stream",
          "text": [
            "w: [-1.73913043 -1.30434783], b: [2.91304348]\n"
          ]
        }
      ],
      "source": [
        "# Extract shapes\n",
        "N, d = X.shape\n",
        "w = cp.Variable(d)\n",
        "b = cp.Variable(1)\n",
        "# All constraints (for all points)\n",
        "constraints = [y[i] * (w.T @ X[i, :] - b) >= 1 for i in range(N)]\n",
        "obj = cp.Minimize(cp.norm(w))   # Minimize the norm of w\n",
        "prob = cp.Problem(obj, constraints) # Define problem\n",
        "result = prob.solve()   # Solve for w and b\n",
        "print(f\"w: {w.value}, b: {b.value}\")"
      ]
    },
    {
      "cell_type": "markdown",
      "metadata": {
        "id": "E1qoXcdDI9qm"
      },
      "source": [
        "In the next cell you are required to visualize the boundary predicted by the solver. You may want to revise up on how to plot the a line given w, b. Please plot w vector as well as the margin lines\n",
        "\n",
        "You may want to create a function to plot the line of separation as you would require this frequently in the subsequent parts of the assignment."
      ]
    },
    {
      "cell_type": "code",
      "execution_count": 63,
      "metadata": {},
      "outputs": [],
      "source": [
        "# Decision boundary\n",
        "y_x_db = lambda x_val: (b.value - w.value[0] * x_val)/w.value[1]\n",
        "# Margin (+1 side)\n",
        "y_x_mp1 = lambda x_val: (1 + b.value - w.value[0] * x_val)/w.value[1]\n",
        "# Margin (-1 side)\n",
        "y_x_mn1 = lambda x_val: (b.value - 1 - w.value[0] * x_val)/w.value[1]\n",
        "# Function\n",
        "def svm_db(x_min, x_max, y_min, y_max):\n",
        "    plt.plot([x_min, x_max], [y_x_db(x_min), y_x_db(x_max)], 'g-')\n",
        "    plt.plot([x_min, x_max], [y_x_mp1(x_min), y_x_mp1(x_max)], 'r--')\n",
        "    plt.plot([x_min, x_max], [y_x_mn1(x_min), y_x_mn1(x_max)], 'b--')\n",
        "    plt.xlim([x_min - 0.2, x_max + 0.2])\n",
        "    plt.ylim([y_min - 0.2, y_max + 0.2])"
      ]
    },
    {
      "cell_type": "code",
      "execution_count": 64,
      "metadata": {
        "id": "X3271BtYI9qo"
      },
      "outputs": [
        {
          "data": {
            "image/png": "[encoded data removed]",
            "text/plain": [
              "<Figure size 432x288 with 1 Axes>"
            ]
          },
          "metadata": {
            "needs_background": "light"
          },
          "output_type": "display_data"
        }
      ],
      "source": [
        "# Write your code here\n",
        "plot_points(X, y)\n",
        "# Show the decision boundary\n",
        "x_min = float(np.min(X[:, 0]))\n",
        "x_max = float(np.max(X[:, 0]))\n",
        "y_min = float(np.min(X[:, 1]))\n",
        "y_max = float(np.max(X[:, 1]))\n",
        "# Red: +1, Blue: -1, Green: 0 (decision boundary)\n",
        "svm_db(x_min, x_max, y_min, y_max)\n",
        "plt.show()"
      ]
    },
    {
      "cell_type": "markdown",
      "metadata": {},
      "source": [
        "Notice that there are _exactly_ three lagrangian multipliers that have the highest weight in the constraints"
      ]
    },
    {
      "cell_type": "code",
      "execution_count": 67,
      "metadata": {},
      "outputs": [
        {
          "data": {
            "image/png": "[encoded data removed]",
            "text/plain": [
              "<Figure size 432x288 with 1 Axes>"
            ]
          },
          "metadata": {
            "needs_background": "light"
          },
          "output_type": "display_data"
        },
        {
          "name": "stdout",
          "output_type": "stream",
          "text": [
            "Points are (array([2, 7, 8], dtype=int64),)\n"
          ]
        }
      ],
      "source": [
        "# Lagrangian Multipliers\n",
        "_l_muls = np.array([constraints[i].dual_value for i in range(N)])\n",
        "_l_muls = _l_muls.flatten()\n",
        "plt.bar(np.arange(N), _l_muls)\n",
        "plt.title(\"Lagranguan Multipliers\")\n",
        "plt.show()\n",
        "p = np.where(_l_muls > 1e-2)\n",
        "print(f\"Points are {p}\")"
      ]
    },
    {
      "cell_type": "markdown",
      "metadata": {
        "id": "NnSqBDqqI9qp"
      },
      "source": [
        "In the next cell please plot only the support vectors along with the boundary, w vector, and margins. \n",
        "\n",
        "**Note: You are not supposed to hard-code the points here.**"
      ]
    },
    {
      "cell_type": "code",
      "execution_count": 68,
      "metadata": {
        "id": "wPBNQB-DI9qq"
      },
      "outputs": [
        {
          "data": {
            "image/png": "[encoded data removed]",
            "text/plain": [
              "<Figure size 432x288 with 1 Axes>"
            ]
          },
          "metadata": {
            "needs_background": "light"
          },
          "output_type": "display_data"
        }
      ],
      "source": [
        "# Write your code here\n",
        "plot_points(X[p, :][0], y[p])\n",
        "svm_db(x_min, x_max, y_min, y_max)\n",
        "plt.show()"
      ]
    },
    {
      "cell_type": "markdown",
      "metadata": {
        "id": "x0Kso1FfI9qs"
      },
      "source": [
        "In the next cell add the following points:\n",
        "* (-4, -10) with label 1\n",
        "* (4, 4) with label -1\n",
        "\n",
        "Is the decision boundary changed after adding the points? Explain your observations theoretically."
      ]
    },
    {
      "cell_type": "code",
      "execution_count": null,
      "metadata": {
        "id": "m4V4ea1-I9qs"
      },
      "outputs": [],
      "source": [
        "# Re-create the Synthetic Data by adding the points and visualize the points"
      ]
    },
    {
      "cell_type": "code",
      "execution_count": null,
      "metadata": {
        "id": "sW93Z-FiI9qt"
      },
      "outputs": [],
      "source": [
        "# Solve for the decision boundary using this modified dataset"
      ]
    },
    {
      "cell_type": "markdown",
      "metadata": {
        "id": "AiepQDo3I9qu"
      },
      "source": [
        "In the next cell you are required to modify your framing of optimisation problem to incorporate soft constraints also known as slack. Plot the decision boundary, w and margin lines for various values of C: $0.01$, $0.1$, $3$, $10$, $100$.\n",
        "\n",
        "Explain your results theoretically. How does the boundary change with varying values of C? Why?\n",
        "\n",
        "**Note: Use the modified X and y i.e after adding points in previous cell.**"
      ]
    },
    {
      "cell_type": "code",
      "execution_count": null,
      "metadata": {
        "id": "TVEix42nI9qu"
      },
      "outputs": [],
      "source": [
        "# Write your code here for C= 0.01"
      ]
    },
    {
      "cell_type": "code",
      "execution_count": null,
      "metadata": {
        "id": "f8tdPNMAI9qv"
      },
      "outputs": [],
      "source": [
        "# Write your code here for C= 0.1"
      ]
    },
    {
      "cell_type": "code",
      "execution_count": null,
      "metadata": {
        "id": "Xf5hfxRRI9qw"
      },
      "outputs": [],
      "source": [
        "# Write your code here for C= 3"
      ]
    },
    {
      "cell_type": "code",
      "execution_count": null,
      "metadata": {
        "id": "qecGoXdnI9qx"
      },
      "outputs": [],
      "source": [
        "# Write your code here for C= 10"
      ]
    },
    {
      "cell_type": "code",
      "execution_count": null,
      "metadata": {
        "id": "cO3_kVe9I9qy"
      },
      "outputs": [],
      "source": [
        "# Write your code here for C= 100"
      ]
    },
    {
      "cell_type": "markdown",
      "metadata": {
        "id": "K7crSrYuI9qy"
      },
      "source": [
        "Take the case of C = 100 and remove the support vectors. Does the boundary change after the deletion?\n",
        "Explain why? Show your results by appropriate plots?"
      ]
    },
    {
      "cell_type": "code",
      "execution_count": null,
      "metadata": {
        "id": "DxC0xdsEI9qz"
      },
      "outputs": [],
      "source": [
        "# Write your Code here"
      ]
    },
    {
      "cell_type": "markdown",
      "metadata": {
        "id": "7goMP4wFI9q0"
      },
      "source": [
        "### Subsection 2"
      ]
    },
    {
      "cell_type": "code",
      "execution_count": null,
      "metadata": {
        "id": "PZdBRpHuI9q0"
      },
      "outputs": [],
      "source": [
        "!pip install python-mnist\n",
        "!rm -rf samples\n",
        "!mkdir samples\n",
        "!wget http://yann.lecun.com/exdb/mnist/train-images-idx3-ubyte.gz -P samples/\n",
        "!gunzip samples/train-images-idx3-ubyte.gz\n",
        "!wget http://yann.lecun.com/exdb/mnist/train-labels-idx1-ubyte.gz -P samples/\n",
        "!gunzip samples/train-labels-idx1-ubyte.gz\n",
        "!wget http://yann.lecun.com/exdb/mnist/t10k-images-idx3-ubyte.gz -P samples/\n",
        "!gunzip samples/t10k-images-idx3-ubyte.gz\n",
        "!wget http://yann.lecun.com/exdb/mnist/t10k-labels-idx1-ubyte.gz -P samples/\n",
        "!gunzip samples/t10k-labels-idx1-ubyte.gz"
      ]
    },
    {
      "cell_type": "code",
      "execution_count": null,
      "metadata": {
        "id": "0XjsnEzVI9q1"
      },
      "outputs": [],
      "source": [
        "# Import Relevant Packages\n",
        "from sklearn.svm import SVC\n",
        "import numpy as np\n",
        "from mnist.loader import MNIST"
      ]
    },
    {
      "cell_type": "code",
      "execution_count": null,
      "metadata": {
        "id": "WvXDgQXsI9q1"
      },
      "outputs": [],
      "source": [
        "mndata = MNIST('samples')\n",
        "\n",
        "# Load training dataset\n",
        "images, labels = mndata.load_training()\n",
        "l = len(labels)\n",
        "images_train = np.array(images)\n",
        "labels_train = np.array(labels)\n",
        "\n",
        "print(images_train.shape)\n",
        "print(labels_train.shape)"
      ]
    },
    {
      "cell_type": "code",
      "execution_count": null,
      "metadata": {
        "id": "pqZ5EG36I9q2"
      },
      "outputs": [],
      "source": [
        "# Load testing dataset\n",
        "images, labels = mndata.load_testing()\n",
        "l = len(labels)\n",
        "images_test = np.array(images)\n",
        "labels_test = np.array(labels)\n",
        "\n",
        "print(images_test.shape)\n",
        "print(labels_test.shape)"
      ]
    },
    {
      "cell_type": "markdown",
      "metadata": {
        "id": "N8F6VkaLI9q3"
      },
      "source": [
        "- Tweak different parameters like the C Parameter and gamma parameter of the Linear SVM and report the results.\n",
        "- Experiment different kernels for classification and report the results.\n",
        "\n",
        "Report accuracy score, F1-score, Confusion matrix and any other metrics you feel useful."
      ]
    },
    {
      "cell_type": "code",
      "execution_count": null,
      "metadata": {
        "id": "CztJyLokI9q3"
      },
      "outputs": [],
      "source": []
    }
  ],
  "metadata": {
    "colab": {
      "name": "SVM.ipynb",
      "provenance": []
    },
    "kernelspec": {
      "display_name": "Python 3",
      "language": "python",
      "name": "python3"
    },
    "language_info": {
      "codemirror_mode": {
        "name": "ipython",
        "version": 3
      },
      "file_extension": ".py",
      "mimetype": "text/x-python",
      "name": "python",
      "nbconvert_exporter": "python",
      "pygments_lexer": "ipython3",
      "version": "3.9.7"
    }
  },
  "nbformat": 4,
  "nbformat_minor": 0
}
