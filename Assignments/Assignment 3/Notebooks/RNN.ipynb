{
  "cells": [
    {
      "cell_type": "markdown",
      "metadata": {
        "id": "Y45yhDufI5Uo"
      },
      "source": [
        "# **RNN**\n",
        "A recurrent neural network (RNN) is a class of artificial neural network where connections between units form a directed cycle. This creates an internal state of the network which allows it to exhibit dynamic temporal behavior."
      ]
    },
    {
      "cell_type": "markdown",
      "metadata": {
        "id": "55i8db8uI5U3"
      },
      "source": [
        "IMDB sentiment classification task\n",
        "\n",
        "This is a dataset for binary sentiment classification containing substantially more data than previous benchmark datasets. IMDB provided a set of 25,000 highly polar movie reviews for training, and 25,000 for testing. There is additional unlabeled data for use as well. Raw text and already processed bag of words formats are provided.\n",
        "\n",
        "You can download the dataset from http://ai.stanford.edu/~amaas/data/sentiment/  or you can directly use \n",
        "\" from keras.datasets import imdb \" to import the dataset.\n",
        "\n",
        "Few points to be noted:\n",
        "Modules like SimpleRNN, LSTM, Activation layers, Dense layers, Dropout can be directly used from keras\n",
        "\n",
        "For preprocessing, you can use required "
      ]
    },
    {
      "cell_type": "code",
      "execution_count": 1,
      "metadata": {
        "id": "SozhvLNkI5U6"
      },
      "outputs": [
        {
          "name": "stdout",
          "output_type": "stream",
          "text": [
            "Downloading data from https://storage.googleapis.com/tensorflow/tf-keras-datasets/imdb.npz\n",
            "17465344/17464789 [==============================] - 1s 0us/step\n",
            "17473536/17464789 [==============================] - 1s 0us/step\n",
            "Loaded dataset with 25000 training samples, 25000 test samples\n"
          ]
        }
      ],
      "source": [
        "#load the imdb dataset \n",
        "from keras.datasets import imdb\n",
        "\n",
        "vocabulary_size = 5000\n",
        "(X_train, y_train), (X_test, y_test) = imdb.load_data(num_words = vocabulary_size)\n",
        "print('Loaded dataset with {} training samples, {} test samples'.format(len(X_train), len(X_test)))"
      ]
    },
    {
      "cell_type": "code",
      "execution_count": 17,
      "metadata": {
        "id": "NrilwfurI5VA"
      },
      "outputs": [
        {
          "name": "stdout",
          "output_type": "stream",
          "text": [
            "---review---\n",
            "[1, 14, 22, 16, 43, 530, 973, 1622, 1385, 65, 458, 4468, 66, 3941, 4, 173, 36, 256, 5, 25, 100, 43, 838, 112, 50, 670, 2, 9, 35, 480, 284, 5, 150, 4, 172, 112, 167, 2, 336, 385, 39, 4, 172, 4536, 1111, 17, 546, 38, 13, 447, 4, 192, 50, 16, 6, 147, 2025, 19, 14, 22, 4, 1920, 4613, 469, 4, 22, 71, 87, 12, 16, 43, 530, 38, 76, 15, 13, 1247, 4, 22, 17, 515, 17, 12, 16, 626, 18, 2, 5, 62, 386, 12, 8, 316, 8, 106, 5, 4, 2223, 2, 16, 480, 66, 3785, 33, 4, 130, 12, 16, 38, 619, 5, 25, 124, 51, 36, 135, 48, 25, 1415, 33, 6, 22, 12, 215, 28, 77, 52, 5, 14, 407, 16, 82, 2, 8, 4, 107, 117, 2, 15, 256, 4, 2, 7, 3766, 5, 723, 36, 71, 43, 530, 476, 26, 400, 317, 46, 7, 4, 2, 1029, 13, 104, 88, 4, 381, 15, 297, 98, 32, 2071, 56, 26, 141, 6, 194, 2, 18, 4, 226, 22, 21, 134, 476, 26, 480, 5, 144, 30, 2, 18, 51, 36, 28, 224, 92, 25, 104, 4, 226, 65, 16, 38, 1334, 88, 12, 16, 283, 5, 16, 4472, 113, 103, 32, 15, 16, 2, 19, 178, 32]\n",
            "---label---\n",
            "1\n",
            "---review with words---\n",
            "['the', 'as', 'you', 'with', 'out', 'themselves', 'powerful', 'lets', 'loves', 'their', 'becomes', 'reaching', 'had', 'journalist', 'of', 'lot', 'from', 'anyone', 'to', 'have', 'after', 'out', 'atmosphere', 'never', 'more', 'room', 'and', 'it', 'so', 'heart', 'shows', 'to', 'years', 'of', 'every', 'never', 'going', 'and', 'help', 'moments', 'or', 'of', 'every', 'chest', 'visual', 'movie', 'except', 'her', 'was', 'several', 'of', 'enough', 'more', 'with', 'is', 'now', 'current', 'film', 'as', 'you', 'of', 'mine', 'potentially', 'unfortunately', 'of', 'you', 'than', 'him', 'that', 'with', 'out', 'themselves', 'her', 'get', 'for', 'was', 'camp', 'of', 'you', 'movie', 'sometimes', 'movie', 'that', 'with', 'scary', 'but', 'and', 'to', 'story', 'wonderful', 'that', 'in', 'seeing', 'in', 'character', 'to', 'of', '70s', 'and', 'with', 'heart', 'had', 'shadows', 'they', 'of', 'here', 'that', 'with', 'her', 'serious', 'to', 'have', 'does', 'when', 'from', 'why', 'what', 'have', 'critics', 'they', 'is', 'you', 'that', \"isn't\", 'one', 'will', 'very', 'to', 'as', 'itself', 'with', 'other', 'and', 'in', 'of', 'seen', 'over', 'and', 'for', 'anyone', 'of', 'and', 'br', \"show's\", 'to', 'whether', 'from', 'than', 'out', 'themselves', 'history', 'he', 'name', 'half', 'some', 'br', 'of', 'and', 'odd', 'was', 'two', 'most', 'of', 'mean', 'for', '1', 'any', 'an', 'boat', 'she', 'he', 'should', 'is', 'thought', 'and', 'but', 'of', 'script', 'you', 'not', 'while', 'history', 'he', 'heart', 'to', 'real', 'at', 'and', 'but', 'when', 'from', 'one', 'bit', 'then', 'have', 'two', 'of', 'script', 'their', 'with', 'her', 'nobody', 'most', 'that', 'with', \"wasn't\", 'to', 'with', 'armed', 'acting', 'watch', 'an', 'for', 'with', 'and', 'film', 'want', 'an']\n",
            "---label---\n",
            "1\n"
          ]
        }
      ],
      "source": [
        "#the review is stored as a sequence of integers. \n",
        "# These are word IDs that have been pre-assigned to individual words, and the label is an integer\n",
        "\n",
        "ri = 0  # Review index\n",
        "print('---review---')\n",
        "print(X_train[ri])\n",
        "print('---label---')\n",
        "print(y_train[ri])\n",
        "\n",
        "# to get the actual review\n",
        "word2id = imdb.get_word_index()\n",
        "id2word = {i: word for word, i in word2id.items()}\n",
        "print('---review with words---')\n",
        "print([id2word.get(i, ' ') for i in X_train[ri]])\n",
        "print('---label---')\n",
        "print(y_train[ri])"
      ]
    },
    {
      "cell_type": "code",
      "execution_count": 24,
      "metadata": {
        "id": "h6upWxEWI5VC"
      },
      "outputs": [],
      "source": [
        "#pad sequences (write your code here)\n",
        "from keras.preprocessing import sequence\n",
        "\n",
        "# Pad with zeros (or truncate to max_length)\n",
        "max_len = 70\n",
        "X_train = sequence.pad_sequences(X_train, max_len)\n",
        "X_test = sequence.pad_sequences(X_test, max_len)\n"
      ]
    },
    {
      "cell_type": "code",
      "execution_count": 55,
      "metadata": {
        "id": "-RcCOpeNI5VF"
      },
      "outputs": [
        {
          "name": "stdout",
          "output_type": "stream",
          "text": [
            "Model: \"sequential_7\"\n",
            "_________________________________________________________________\n",
            " Layer (type)                Output Shape              Param #   \n",
            "=================================================================\n",
            " embedding_7 (Embedding)     (None, None, 32)          160000    \n",
            "                                                                 \n",
            " simple_rnn_7 (SimpleRNN)    (None, 16)                784       \n",
            "                                                                 \n",
            " dense_14 (Dense)            (None, 10)                170       \n",
            "                                                                 \n",
            " dropout_7 (Dropout)         (None, 10)                0         \n",
            "                                                                 \n",
            " dense_15 (Dense)            (None, 1)                 11        \n",
            "                                                                 \n",
            "=================================================================\n",
            "Total params: 160,965\n",
            "Trainable params: 160,965\n",
            "Non-trainable params: 0\n",
            "_________________________________________________________________\n"
          ]
        },
        {
          "data": {
            "text/plain": [
              "<tf.Tensor: shape=(1, 1), dtype=float32, numpy=array([[0.50625575]], dtype=float32)>"
            ]
          },
          "execution_count": 55,
          "metadata": {},
          "output_type": "execute_result"
        }
      ],
      "source": [
        "#design a RNN model (write your code)\n",
        "from keras import Sequential\n",
        "from keras.layers import Embedding, SimpleRNN, LSTM, Dense, Dropout\n",
        "from keras.activations import relu, sigmoid\n",
        "\n",
        "model = Sequential()\n",
        "model.add(Embedding(vocabulary_size, 32))\n",
        "model.add(SimpleRNN(16, dropout=0.2, recurrent_dropout=0.2))\n",
        "model.add(Dense(10, activation=relu))\n",
        "model.add(Dropout(0.2, input_shape=(10,)))\n",
        "model.add(Dense(1, activation=sigmoid))\n",
        "\n",
        "model.summary()\n",
        "model(X_train[[0]]) # Example (push data through model and test)\n"
      ]
    },
    {
      "cell_type": "code",
      "execution_count": 58,
      "metadata": {
        "id": "InQ2TED3I5VI"
      },
      "outputs": [],
      "source": [
        "#train and evaluate your model\n",
        "#choose your loss function and optimizer and mention the reason to choose that particular loss function and optimizer\n",
        "# use accuracy as the evaluation metric\n",
        "from tensorflow.keras.optimizers import Adam\n",
        "from keras.losses import BinaryCrossentropy\n",
        "from keras.metrics import BinaryAccuracy\n",
        "\n",
        "model.compile(optimizer=Adam(), \n",
        "    loss=BinaryCrossentropy(),\n",
        "    metrics=[BinaryAccuracy()])"
      ]
    },
    {
      "cell_type": "markdown",
      "metadata": {},
      "source": [
        "**Adam Optimizer**: Was chosen because of generalizing power. It considers the exponentially weighted average of the momentum (previous gradients) as well as includes accommodation for RMS Prop. So it combines gradient descent, momentum and RMS Prop. It is very commonly used and proven to be very effective in the literature.\n",
        "\n",
        "> Reference: YouTube [Adam Optimization Algorithm (C2W2L08)](https://www.youtube.com/watch?v=JXQT_vxqwIs)\n",
        "\n",
        "**Binary Cross-Entropy** loss: Was chosen because the problem is a binary classification problem. The goal of the model is actually to give the probabilistic output (sigmoid output), therefore `from_logits=False` (default parameter). This is basically $L = -(y_i \\textup{log}(p_i) + (1-y_i) \\textup{log}(1-p_i))$. It is a widely used loss function for binary classification problems.\n",
        "\n",
        "> Reference: [ml-cheatsheet.readthedocs.io](https://ml-cheatsheet.readthedocs.io/en/latest/loss_functions.html#cross-entropy)\n",
        "\n",
        "**Binary Accuracy** metric: This is used for calculating the accuracy on binary classification tasks. When the labels are binary (0 or 1), it's suggested to use [BinaryAccuracy](https://www.tensorflow.org/api_docs/python/tf/keras/metrics/BinaryAccuracy) over [Accuracy](https://www.tensorflow.org/api_docs/python/tf/keras/metrics/Accuracy) (which performs an exact comparison)."
      ]
    },
    {
      "cell_type": "code",
      "execution_count": 60,
      "metadata": {
        "id": "q6A9Q0xmI5VJ"
      },
      "outputs": [
        {
          "name": "stdout",
          "output_type": "stream",
          "text": [
            "Epoch 1/5\n",
            "782/782 [==============================] - 88s 113ms/step - loss: 0.5115 - binary_accuracy: 0.7559 - val_loss: 0.4621 - val_binary_accuracy: 0.7893\n",
            "Epoch 2/5\n",
            "782/782 [==============================] - 88s 112ms/step - loss: 0.4595 - binary_accuracy: 0.7969 - val_loss: 0.4490 - val_binary_accuracy: 0.8029\n",
            "Epoch 3/5\n",
            "782/782 [==============================] - 89s 113ms/step - loss: 0.4313 - binary_accuracy: 0.8140 - val_loss: 0.4660 - val_binary_accuracy: 0.8004\n",
            "Epoch 4/5\n",
            "782/782 [==============================] - 90s 116ms/step - loss: 0.4109 - binary_accuracy: 0.8261 - val_loss: 0.4388 - val_binary_accuracy: 0.8059\n",
            "Epoch 5/5\n",
            "782/782 [==============================] - 91s 116ms/step - loss: 0.3947 - binary_accuracy: 0.8346 - val_loss: 0.4564 - val_binary_accuracy: 0.7928\n"
          ]
        }
      ],
      "source": [
        "batch_size = 32\n",
        "num_epochs = 5  # 5 epochs\n",
        "\n",
        "history = model.fit(X_train, y_train, batch_size=batch_size, \n",
        "    epochs=num_epochs, validation_data=(X_test, y_test))"
      ]
    },
    {
      "cell_type": "code",
      "execution_count": 77,
      "metadata": {},
      "outputs": [
        {
          "data": {
            "text/plain": [
              "<matplotlib.legend.Legend at 0x1cecc8f53d0>"
            ]
          },
          "execution_count": 77,
          "metadata": {},
          "output_type": "execute_result"
        },
        {
          "data": {
            "image/png": "[encoded data removed]",
            "text/plain": [
              "<Figure size 432x288 with 1 Axes>"
            ]
          },
          "metadata": {
            "needs_background": "light"
          },
          "output_type": "display_data"
        }
      ],
      "source": [
        "from matplotlib import pyplot as plt\n",
        "import numpy as np\n",
        "# Main plot\n",
        "plt.figure()\n",
        "plt.title(\"Accuracy\")\n",
        "plt.plot(history.history[\"binary_accuracy\"], '*-', label=\"Training\")\n",
        "plt.plot(history.history[\"val_binary_accuracy\"], '*-', label=\"Test\")\n",
        "plt.xlabel(\"Epochs\")\n",
        "plt.xticks(np.arange(num_epochs))\n",
        "plt.ylabel(\"Accuracy\")\n",
        "plt.legend()"
      ]
    },
    {
      "cell_type": "code",
      "execution_count": 61,
      "metadata": {
        "id": "YTXG__EmI5VM"
      },
      "outputs": [
        {
          "name": "stdout",
          "output_type": "stream",
          "text": [
            "782/782 [==============================] - 10s 12ms/step - loss: 0.4564 - binary_accuracy: 0.7928\n",
            "Test score: 0.45637550950050354, accuracy: 79.280%\n"
          ]
        }
      ],
      "source": [
        "#evaluate the model using model.evaluate()\n",
        "score, acc = model.evaluate(X_test, y_test)\n",
        "print(f\"Test score: {score}, accuracy: {acc*100:.3f}%\")"
      ]
    },
    {
      "cell_type": "code",
      "execution_count": 62,
      "metadata": {},
      "outputs": [
        {
          "name": "stdout",
          "output_type": "stream",
          "text": [
            "INFO:tensorflow:Assets written to: ./simplernn\\assets\n"
          ]
        }
      ],
      "source": [
        "# Save the model\n",
        "from keras.models import save_model\n",
        "save_model(model, \"./simplernn\")"
      ]
    },
    {
      "cell_type": "markdown",
      "metadata": {
        "id": "D1uSo8DgI5VN"
      },
      "source": [
        "# **LSTM**\n",
        "\n",
        "Instead of using a RNN, now try using a LSTM model and compare both of them. Which of those performed better and why ?\n"
      ]
    },
    {
      "cell_type": "code",
      "execution_count": 79,
      "metadata": {
        "id": "Bk4rLYHwI5VP"
      },
      "outputs": [
        {
          "name": "stdout",
          "output_type": "stream",
          "text": [
            "WARNING:tensorflow:Layer lstm_1 will not use cuDNN kernels since it doesn't meet the criteria. It will use a generic GPU kernel as fallback when running on GPU.\n",
            "Model: \"sequential_9\"\n",
            "_________________________________________________________________\n",
            " Layer (type)                Output Shape              Param #   \n",
            "=================================================================\n",
            " embedding_9 (Embedding)     (None, None, 32)          160000    \n",
            "                                                                 \n",
            " lstm_1 (LSTM)               (None, 16)                3136      \n",
            "                                                                 \n",
            " dense_18 (Dense)            (None, 10)                170       \n",
            "                                                                 \n",
            " dropout_9 (Dropout)         (None, 10)                0         \n",
            "                                                                 \n",
            " dense_19 (Dense)            (None, 1)                 11        \n",
            "                                                                 \n",
            "=================================================================\n",
            "Total params: 163,317\n",
            "Trainable params: 163,317\n",
            "Non-trainable params: 0\n",
            "_________________________________________________________________\n"
          ]
        }
      ],
      "source": [
        "# LSTM Model\n",
        "model = Sequential()\n",
        "model.add(Embedding(vocabulary_size, 32))\n",
        "model.add(LSTM(16, dropout=0.2, recurrent_dropout=0.2))\n",
        "model.add(Dense(10, activation=relu))\n",
        "model.add(Dropout(0.2, input_shape=(10,)))\n",
        "model.add(Dense(1, activation=sigmoid))\n",
        "# Summary\n",
        "model.summary()\n",
        "model(X_train[[0]]) # Example (push data through model and test)\n",
        "# Compilation (same metrics, optimizer and loss function)\n",
        "model.compile(optimizer=Adam(), \n",
        "    loss=BinaryCrossentropy(),\n",
        "    metrics=[BinaryAccuracy()])"
      ]
    },
    {
      "cell_type": "markdown",
      "metadata": {},
      "source": [
        "Usually, one could use the [parameters required](https://keras.io/api/layers/recurrent_layers/lstm/) for cuDNN kernels. But since we're trying so see the effects of swapping [SimpleRNN](https://www.tensorflow.org/api_docs/python/tf/keras/layers/SimpleRNN) with [LSTM](https://www.tensorflow.org/api_docs/python/tf/keras/layers/LSTM), let this be."
      ]
    },
    {
      "cell_type": "code",
      "execution_count": 80,
      "metadata": {},
      "outputs": [
        {
          "name": "stdout",
          "output_type": "stream",
          "text": [
            "Epoch 1/5\n",
            "782/782 [==============================] - 300s 382ms/step - loss: 0.4845 - binary_accuracy: 0.7649 - val_loss: 0.3879 - val_binary_accuracy: 0.8283\n",
            "Epoch 2/5\n",
            "782/782 [==============================] - 301s 384ms/step - loss: 0.3490 - binary_accuracy: 0.8541 - val_loss: 0.3707 - val_binary_accuracy: 0.8345\n",
            "Epoch 3/5\n",
            "782/782 [==============================] - 298s 381ms/step - loss: 0.3055 - binary_accuracy: 0.8718 - val_loss: 0.3842 - val_binary_accuracy: 0.8335\n",
            "Epoch 4/5\n",
            "782/782 [==============================] - 302s 387ms/step - loss: 0.2760 - binary_accuracy: 0.8844 - val_loss: 0.4186 - val_binary_accuracy: 0.8301\n",
            "Epoch 5/5\n",
            "782/782 [==============================] - 301s 385ms/step - loss: 0.2507 - binary_accuracy: 0.8963 - val_loss: 0.4580 - val_binary_accuracy: 0.8241\n"
          ]
        }
      ],
      "source": [
        "# Train the model (same parameters)\n",
        "batch_size = 32\n",
        "num_epochs = 5  # 5 epochs\n",
        "\n",
        "history = model.fit(X_train, y_train, batch_size=batch_size, \n",
        "    epochs=num_epochs, validation_data=(X_test, y_test))"
      ]
    },
    {
      "cell_type": "code",
      "execution_count": 81,
      "metadata": {},
      "outputs": [
        {
          "data": {
            "text/plain": [
              "<matplotlib.legend.Legend at 0x1ceca2c1880>"
            ]
          },
          "execution_count": 81,
          "metadata": {},
          "output_type": "execute_result"
        },
        {
          "data": {
            "image/png": "[encoded data removed]",
            "text/plain": [
              "<Figure size 432x288 with 1 Axes>"
            ]
          },
          "metadata": {
            "needs_background": "light"
          },
          "output_type": "display_data"
        }
      ],
      "source": [
        "# Plot curves\n",
        "plt.figure()\n",
        "plt.title(\"Accuracy\")\n",
        "plt.plot(history.history[\"binary_accuracy\"], '*-', label=\"Training\")\n",
        "plt.plot(history.history[\"val_binary_accuracy\"], '*-', label=\"Test\")\n",
        "plt.xlabel(\"Epochs\")\n",
        "plt.xticks(np.arange(num_epochs))\n",
        "plt.ylabel(\"Accuracy\")\n",
        "plt.legend()"
      ]
    },
    {
      "cell_type": "code",
      "execution_count": 82,
      "metadata": {},
      "outputs": [
        {
          "name": "stdout",
          "output_type": "stream",
          "text": [
            "782/782 [==============================] - 28s 35ms/step - loss: 0.4580 - binary_accuracy: 0.8241\n",
            "Test score: 0.4579967260360718, accuracy: 82.412%\n"
          ]
        }
      ],
      "source": [
        "# Test using evaluate\n",
        "score, acc = model.evaluate(X_test, y_test)\n",
        "print(f\"Test score: {score}, accuracy: {acc*100:.3f}%\")"
      ]
    },
    {
      "cell_type": "code",
      "execution_count": 83,
      "metadata": {},
      "outputs": [
        {
          "name": "stdout",
          "output_type": "stream",
          "text": [
            "INFO:tensorflow:Assets written to: ./simplelstm\\assets\n"
          ]
        },
        {
          "name": "stderr",
          "output_type": "stream",
          "text": [
            "WARNING:absl:<keras.layers.recurrent.LSTMCell object at 0x000001CECF22FE20> has the same name 'LSTMCell' as a built-in Keras object. Consider renaming <class 'keras.layers.recurrent.LSTMCell'> to avoid naming conflicts when loading with `tf.keras.models.load_model`. If renaming is not possible, pass the object in the `custom_objects` parameter of the load function.\n"
          ]
        }
      ],
      "source": [
        "# Save the model\n",
        "save_model(model, \"./simplelstm\")"
      ]
    },
    {
      "cell_type": "markdown",
      "metadata": {},
      "source": [
        "As observed through the accuracy on the test set, the LSTM model is better than the simple RNN model\n",
        "\n",
        "| Model | Test Acc. | Binary Acc. (Training) |\n",
        "| :--- | :--- | :--- |\n",
        "| `SimpleRNN` | 79.280 | 0.8346  |\n",
        "| `LSTM` | 82.412 | 0.8963 |\n",
        "\n",
        "In the simple RNN, the layer is\n",
        "\n",
        "```txt\n",
        "simple_rnn_7 (SimpleRNN)    (None, 16)                784       \n",
        "```\n",
        "\n",
        "In the LSTM, the layer description is\n",
        "\n",
        "```txt\n",
        "lstm_1 (LSTM)               (None, 16)                3136      \n",
        "```\n",
        "\n",
        "The LSTM cells have more number of parameters, as well as options to better control the flow of information. The cells have a separate cell state (for storage). This helps them to capture longer term dependencies, which is helpful in sequential data. Each LSTM cell performs four essential steps (forget, store, update and output), thereby having about four times as many parameters as a simple RNN.\n",
        "\n",
        "<a href=\"https://en.wikipedia.org/wiki/Long_short-term_memory\"> <img src=\"https://upload.wikimedia.org/wikipedia/commons/thumb/9/93/LSTM_Cell.svg/1200px-LSTM_Cell.svg.png\" alt=\"LSTM Cell (Wikipedia)\" height=250 style=\"background-color: #ffffff;\" /> </a>"
      ]
    },
    {
      "cell_type": "markdown",
      "metadata": {
        "id": "GBtRY9jmI5VQ"
      },
      "source": [
        "## Error Analysis and Explanation\n",
        "\n",
        "Perform Error analysis and explain using few examples."
      ]
    },
    {
      "cell_type": "markdown",
      "metadata": {},
      "source": [
        "### Error Analysis\n",
        "\n",
        "As seen above, the errors are described in the table. The testing error is lesser for LSTM (than for SimpleRNN). A sample (that has been misclassified) is shown below"
      ]
    },
    {
      "cell_type": "code",
      "execution_count": 120,
      "metadata": {},
      "outputs": [
        {
          "name": "stdout",
          "output_type": "stream",
          "text": [
            "Accuracy on test set is: 82.412 %\n"
          ]
        }
      ],
      "source": [
        "ytest_pred = model(X_test).numpy().flatten()  # Predictions\n",
        "ytd_pred = np.array([1 if y > 0.5 else 0 \n",
        "    for y in ytest_pred]) # Threshold\n",
        "# Indices that do not match\n",
        "mismatch_i = np.array([i for i, yp in enumerate(ytd_pred) \n",
        "    if yp != y_test[i]])\n",
        "acc_test = 1 - mismatch_i.shape[0] / y_test.shape[0]    # Accuracy\n",
        "print(f\"Accuracy on test set is: {acc * 100:.3f} %\")"
      ]
    },
    {
      "cell_type": "code",
      "execution_count": 133,
      "metadata": {},
      "outputs": [
        {
          "name": "stdout",
          "output_type": "stream",
          "text": [
            "Inspecting test sample number 18308\n",
            "Prediction: 0.61939 (= 1)\n",
            "Actual: 0\n",
            "\n",
            "---review---\n",
            "[ 178    2    2   10   10    5  259  334 1495   15   54    2   16 4255\n",
            "    4 3885    5  258   15 2138   15   54   29  120    4 4304    4    2\n",
            " 2674   35    2    5  161  471   83    6  117  508   40   32   81   54\n",
            "   25    2   23    6   13  384   48  335 2146   28    4 3077  297  141\n",
            "    6    2  217   11  129   20   33  222   79    4  117  183  208    2]\n",
            "---label---\n",
            "0\n",
            "\n",
            "---review with words---\n",
            "['want', 'and', 'and', 'i', 'i', 'to', 'especially', 'fan', 'laughed', 'for', 'no', 'and', 'with', 'edie', 'of', 'greek', 'to', 'although', 'for', 'trek', 'for', 'no', 'all', 'show', 'of', 'forms', 'of', 'and', 'stays', 'so', 'and', 'to', 'nothing', \"i'd\", 'first', 'is', 'over', 'act', 'just', 'an', 'people', 'no', 'have', 'and', 'are', 'is', 'was', 'let', 'what', 'poor', 'painfully', 'one', 'of', 'lessons', '1', 'should', 'is', 'and', 'almost', 'this', 'man', 'on', 'they', \"there's\", 'also', 'of', 'over', 'seems', 'times', 'and']\n",
            "---label---\n",
            "0\n"
          ]
        }
      ],
      "source": [
        "# Inspect an index\n",
        "i = np.random.choice(mismatch_i)    # Index to inspect\n",
        "print(f\"Inspecting test sample number {i}\")\n",
        "print(f\"Prediction: {ytest_pred[i]:.5f} (= {ytd_pred[i]})\")\n",
        "print(f\"Actual: {y_test[i]}\")\n",
        "print()\n",
        "print('---review---')\n",
        "print(X_test[i])\n",
        "print('---label---')\n",
        "print(y_test[i])\n",
        "print()\n",
        "print('---review with words---')\n",
        "print([id2word.get(k, ' ') for k in X_test[i]])\n",
        "print('---label---')\n",
        "print(y_test[i])"
      ]
    },
    {
      "cell_type": "markdown",
      "metadata": {},
      "source": [
        "### Explanation\n",
        "\n",
        "It is observed that when the words are not unique, specially when there are too many articles and pronouns (generally available worlds of high frequency). This is observed by the following review\n",
        "\n",
        "```txt\n",
        "Inspecting test sample number 16672\n",
        "Prediction: 0.03091 (= 0)\n",
        "Actual: 1\n",
        "\n",
        "---review---\n",
        "[   2   72    2   13   30   35 3111 1544    5   95  225    4 2749  698\n",
        "    2    5    4 2749  328    2   19    2    5  417 1705  253    4  132\n",
        "   23    4  393    7    4 1225 1449  600   10   10   14   20  218  629\n",
        "   21    9    9  642   13 1498   61 3625  125    4  226   96  143    5\n",
        "   13  386   14   18  259   37 1232    6   52   78   20   10   10   46]\n",
        "---label---\n",
        "1\n",
        "\n",
        "---review with words---\n",
        "['and', 'we', 'and', 'was', 'at', 'so', 'pride', 'park', 'to', 'them', 'music', 'of', 'facial', 'non', 'and', 'to', 'of', 'facial', 'simply', \n",
        "'and', 'film', 'and', 'to', 'case', 'energy', 'played', 'of', 'say', 'are', 'of', 'school', 'br', 'of', 'generally', 'lived', 'score', 'i', 'i', \n",
        "'as', 'on', 'interesting', 'hero', 'not', 'it', 'it', 'started', 'was', 'mediocre', 'only', 'notes', 'better', 'of', 'script', 'too', \"i'm\", 'to', \n",
        "'was', 'wonderful', 'as', 'but', 'especially', 'like', 'pathetic', 'is', 'very', 'do', 'on', 'i', 'i', 'some']\n",
        "---label---\n",
        "1\n",
        "```\n",
        "\n",
        "The above sample has too many articles (a, an, the) and pronouns (i, we, them). This could have made the decision process tougher.\n",
        "\n",
        "Another observation is that out of the times the algorithm misclassified, most were classifying a true 1 as a 0, than true 0 as a 1. See the confusion matrix on this below."
      ]
    },
    {
      "cell_type": "code",
      "execution_count": 138,
      "metadata": {},
      "outputs": [
        {
          "data": {
            "image/png": "[encoded data removed]",
            "text/plain": [
              "<Figure size 432x288 with 2 Axes>"
            ]
          },
          "metadata": {
            "needs_background": "light"
          },
          "output_type": "display_data"
        }
      ],
      "source": [
        "from sklearn.metrics import confusion_matrix, ConfusionMatrixDisplay\n",
        "# Confusion matrix\n",
        "disp = ConfusionMatrixDisplay(confusion_matrix(y_test, ytd_pred),\n",
        "    display_labels=[0, 1])\n",
        "disp.plot()\n",
        "plt.show()"
      ]
    },
    {
      "cell_type": "markdown",
      "metadata": {},
      "source": [
        "An example where a true 1 was classified as a zero is shown above. An example of a true zero being classified as a one is shown below\n",
        "\n",
        "```txt\n",
        "Inspecting test sample number 18308\n",
        "Prediction: 0.61939 (= 1)\n",
        "Actual: 0\n",
        "\n",
        "---review---\n",
        "[ 178    2    2   10   10    5  259  334 1495   15   54    2   16 4255\n",
        "    4 3885    5  258   15 2138   15   54   29  120    4 4304    4    2\n",
        " 2674   35    2    5  161  471   83    6  117  508   40   32   81   54\n",
        "   25    2   23    6   13  384   48  335 2146   28    4 3077  297  141\n",
        "    6    2  217   11  129   20   33  222   79    4  117  183  208    2]\n",
        "---label---\n",
        "0\n",
        "\n",
        "---review with words---\n",
        "['want', 'and', 'and', 'i', 'i', 'to', 'especially', 'fan', 'laughed', 'for', 'no', 'and', 'with', 'edie', 'of', 'greek', 'to', 'although', 'for', \n",
        "'trek', 'for', 'no', 'all', 'show', 'of', 'forms', 'of', 'and', 'stays', 'so', 'and', 'to', 'nothing', \"i'd\", 'first', 'is', 'over', 'act', 'just', \n",
        "'an', 'people', 'no', 'have', 'and', 'are', 'is', 'was', 'let', 'what', 'poor', 'painfully', 'one', 'of', 'lessons', '1', 'should', 'is', 'and', \n",
        "'almost', 'this', 'man', 'on', 'they', \"there's\", 'also', 'of', 'over', 'seems', 'times', 'and']\n",
        "---label---\n",
        "0\n",
        "```\n",
        "\n",
        "Here, we see too many _less_ frequent words. Maybe the model has overfit on a few words that have too high a weightage. As it is, the prediction value for this misclassification is lower than the value for classifications that are really `1` (correctly labelled `1`). It's because of the thresholding set at 0.5, that this got classified as 1. You can see an example of the value here\n",
        "\n",
        "```txt\n",
        "y_test[1] -> 1\n",
        "ytest_pred[1] -> 0.9953   (approx 1 already)\n",
        "```\n",
        "\n",
        "This is the conclusion of the explanation through looking at misclassified results. Maybe a more detailed result can be obtained through tools like [shap](https://github.com/slundberg/shap) (which aim to explore how the network has understood aspects of data)."
      ]
    },
    {
      "cell_type": "code",
      "execution_count": null,
      "metadata": {},
      "outputs": [],
      "source": [
        "# Some rough work!"
      ]
    }
  ],
  "metadata": {
    "colab": {
      "name": "RNN.ipynb",
      "provenance": []
    },
    "interpreter": {
      "hash": "016dd1960a0c9a2dd9faf596443b3d21092bf8dbb881bc3a34723b5289185a0f"
    },
    "kernelspec": {
      "display_name": "Python 3.9.7 64-bit ('smai-cs7-403': conda)",
      "language": "python",
      "name": "python3"
    },
    "language_info": {
      "name": "python",
      "version": "3.9.7"
    },
    "orig_nbformat": 4
  },
  "nbformat": 4,
  "nbformat_minor": 0
}
