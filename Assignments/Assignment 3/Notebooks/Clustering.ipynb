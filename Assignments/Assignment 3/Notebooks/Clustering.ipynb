{
  "nbformat": 4,
  "nbformat_minor": 0,
  "metadata": {
    "colab": {
      "name": "Copy of Clustering.ipynb",
      "provenance": []
    },
    "kernelspec": {
      "display_name": "Python 3",
      "name": "python3"
    }
  },
  "cells": [
    {
      "cell_type": "markdown",
      "metadata": {
        "id": "vpWQigP0msj9"
      },
      "source": [
        "**Part 1:** \n",
        "\n",
        "Use the **Fashion-MNIST** dataset for this question.\n",
        "\n",
        "1a) Load the dataset and implement the K Means algorithm. You need to find the optimal number of clusters using the\n",
        "> i) elbow method\n",
        "\n",
        "> ii) silhoette method\n",
        "\n",
        "\n",
        "\n",
        "1b) Define the initial clusters’ centroids using:</br>\n",
        "> i) Forgy</br>\n",
        "\n",
        "> ii) Random Partition\n",
        "\n",
        "1c) Experiment with different distance measures [Euclidean distance, Manhattan distance].\n",
        "\n",
        "1d) Plot the error vs number of clusters graph while using the elbow method and silhouette \n",
        "    method. Report the optimal number of clusters found.\n",
        "\n",
        "\n",
        "1e) Visualize the dataset to depict the clusters formed. (prefer T-SNE)\n",
        "\n",
        "</br>\n",
        "</br>\n",
        "</br>\n",
        "</br>\n",
        "\n",
        "\n",
        "**Part 2:**\n",
        "</br>\n",
        "In this task, you need to implement Hierarchical clustering (agglomerative) on the same dataset.\n",
        "\n",
        "2a) visualize a dendogram and find out the optimal number of clusters with the help of Dendogram. Explain the procedure.\n",
        "\n",
        "\n",
        "2b) Implement Hierarchical clustering using: </br>\n",
        "> i) single linkage\n",
        "\n",
        "> ii) Complete linkage\n",
        "\n",
        ">Visualize the clusters obtained using these linkages and compare. \n",
        "\n"
      ]
    },
    {
      "cell_type": "code",
      "metadata": {
        "id": "yY8uMDe9quTE"
      },
      "source": [
        "#implement elbow method from scratch\n",
        "def elbow():\n"
      ],
      "execution_count": null,
      "outputs": []
    },
    {
      "cell_type": "code",
      "metadata": {
        "id": "32x9M36qq2fO"
      },
      "source": [
        "#implement silhouette method from scratch\n",
        "def silhouette():\n",
        "\n"
      ],
      "execution_count": null,
      "outputs": []
    },
    {
      "cell_type": "code",
      "metadata": {
        "id": "AW0iiyC6qDlb"
      },
      "source": [
        "#implement Kmeans from scratch\n",
        "class Kmeans:\n",
        "\n",
        "  def __init__(self):\n",
        "\n",
        "\n",
        "  "
      ],
      "execution_count": null,
      "outputs": []
    },
    {
      "cell_type": "code",
      "metadata": {
        "id": "6j7nYmipmrC6"
      },
      "source": [
        "from keras.datasets import fashion_mnist\n",
        "(trainX, trainy), (testX, testy) = fashion_mnist.load_data()\n",
        "\n",
        "# you can performs your training on train/test dataset alone if there are computational issues"
      ],
      "execution_count": null,
      "outputs": []
    },
    {
      "cell_type": "markdown",
      "metadata": {
        "id": "y4xDlZiaxs56"
      },
      "source": [
        "Hierarchical clustering"
      ]
    },
    {
      "cell_type": "code",
      "metadata": {
        "id": "3teXlnf1xZZF"
      },
      "source": [
        "# implement hierarchical clustering ( you can use scikit module)\n",
        "\n",
        "def hierarchical_clustering():\n",
        "\n",
        "\n"
      ],
      "execution_count": null,
      "outputs": []
    },
    {
      "cell_type": "code",
      "metadata": {
        "id": "wmTODerdxlht"
      },
      "source": [
        "#visualize a dendogram\n",
        "\n",
        "def dendogram():\n",
        "\n",
        "\n",
        "  "
      ],
      "execution_count": null,
      "outputs": []
    },
    {
      "cell_type": "markdown",
      "metadata": {
        "id": "zhYTSCC-xx4T"
      },
      "source": [
        "**Question**: Explain the procedure to find the optimal number of clusters using dendogram\n",
        "\n",
        "Answer: </br>\n",
        "</br>\n",
        "</br>\n",
        "</br>\n",
        "\n",
        "\n",
        "\n"
      ]
    },
    {
      "cell_type": "code",
      "metadata": {
        "id": "ujBgFKzwyLWb"
      },
      "source": [
        "#visualisation of clusters using single linkage and complete linkage\n",
        "\n",
        "\n",
        "\n"
      ],
      "execution_count": null,
      "outputs": []
    },
    {
      "cell_type": "markdown",
      "metadata": {
        "id": "WU459HN1yYHj"
      },
      "source": [
        "**Question:** Mention the differences observed using single and complete linkage:\n",
        "\n",
        "Answer: </br>\n",
        "</br>\n",
        "</br>\n",
        "</br>"
      ]
    }
  ]
}