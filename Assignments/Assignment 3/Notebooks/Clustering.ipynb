{
  "cells": [
    {
      "cell_type": "markdown",
      "metadata": {},
      "source": [
        "# Assignment 3.4 - Clustering\n",
        "\n",
        "**Name**: Avneesh Mishra <br>\n",
        "**Roll No**: 2021701032\n"
      ]
    },
    {
      "cell_type": "code",
      "execution_count": 1,
      "metadata": {},
      "outputs": [],
      "source": [
        "# Import everything\n",
        "import numpy as np\n",
        "from matplotlib import pyplot as plt\n",
        "from tensorflow import keras\n",
        "from sklearn.manifold import TSNE"
      ]
    },
    {
      "cell_type": "markdown",
      "metadata": {},
      "source": [
        "---"
      ]
    },
    {
      "cell_type": "markdown",
      "metadata": {},
      "source": [
        "# Part 1: K-Means on Fashion-MNIST dataset\n",
        "\n",
        "1. Load the dataset and implement k-Means algorithm (from scratch). You need to find the optimal number of clusters using\n",
        "\n",
        "    - Elbow Method\n",
        "    - Silhouette analysis\n",
        "\n",
        "2. Define the initial clusters’ centroids using\n",
        "\n",
        "    - Forgy\n",
        "    - Random Partition\n",
        "\n",
        "3. Experiment with different distance measures (Euclidean distance, Manhattan distance)\n",
        "\n",
        "4. Plot the error vs number of clusters graph while using the elbow method and silhouette analysis. Report the optimal number of clusters found.\n",
        "\n",
        "5. Visualize the dataset to depict the clusters formed. (prefer T-SNE)"
      ]
    },
    {
      "cell_type": "markdown",
      "metadata": {},
      "source": [
        "## Section 1.1: Load Fashion-MNIST and k-Means implementation\n",
        "\n",
        "Imports all data and implements the kMeans algorithm. This completes the following goals\n",
        "\n",
        "1. Implementing the KMeans algorithm from scratch\n",
        "    1. Initial cluster centroids using `Forgy` and `Random Partition`\n",
        "    2. Distance measures: `Manhattan` and `Euclidean`"
      ]
    },
    {
      "cell_type": "code",
      "execution_count": 13,
      "metadata": {},
      "outputs": [],
      "source": [
        "# Load the dataset\n",
        "(img_train, label_train), (img_test, label_test) = keras.datasets.\\\n",
        "    fashion_mnist.load_data()\n",
        "# Using the test set (compute constraints) for clustering\n",
        "x_data = img_test.reshape(-1, 28*28)   # 10000, 784\n",
        "y_data = label_test     # 10000,\n",
        "# Training set (small for testing the implementations)\n",
        "x_train = x_data[:500, :]\n",
        "y_train = y_data[:500]"
      ]
    },
    {
      "cell_type": "code",
      "execution_count": 131,
      "metadata": {
        "id": "AW0iiyC6qDlb"
      },
      "outputs": [],
      "source": [
        "# KMeans from scratch\n",
        "class KMeans:\n",
        "\n",
        "  @staticmethod\n",
        "  def euclidean_dist(x1, x2):\n",
        "    return np.linalg.norm(x1-x2)\n",
        "  \n",
        "  @staticmethod\n",
        "  def manhat_dist(x1, x2):\n",
        "    return np.sum(np.abs(x1-x2))\n",
        "\n",
        "  # Constructor\n",
        "  def __init__(self, k=10, dist_m = \"eu\", init_m = \"fg\"):\n",
        "    \"\"\"\n",
        "      k: int  default: 10\n",
        "      dist_m: {\"eu\", \"mt\"}\n",
        "      init_m: {\"fg\", \"rp\"}  Forgy or Random Partition\n",
        "    \"\"\"\n",
        "    # K value\n",
        "    self.k = k\n",
        "    # Initialization Method\n",
        "    self.im = init_m\n",
        "    # Distance metric\n",
        "    self.dm = KMeans.euclidean_dist if dist_m == \"eu\" else \\\n",
        "      KMeans.manhat_dist\n",
        "    # Cluster centers (as list)\n",
        "    self.cs = None\n",
        "    # Data\n",
        "    self.x = None\n",
        "  \n",
        "  # Fit the data\n",
        "  def fit(self, x_train: np.ndarray, max_iter = 300):\n",
        "    \"\"\"\n",
        "      returns cga: Array of cluster group numbers, one for each x\n",
        "    \"\"\"\n",
        "    self.x = x_train  # Backup. Do not modify\n",
        "    self.cx = self.x.copy() # Can modify\n",
        "    # Initialize the cluster centers\n",
        "    if self.im == \"fg\": # Forgy initialization\n",
        "      self.icc_forgy()\n",
        "      pass\n",
        "    else: # Random partition initialization\n",
        "      self.icc_rp()\n",
        "    # Cluster centers have been initialized. Start KMeans\n",
        "    for i in range(max_iter):\n",
        "      # Assign each point to a cluster center (based on distance)\n",
        "      cga = self.get_cga()\n",
        "      # Get the new cluster centers\n",
        "      ncc = self.update_cs(cga)\n",
        "      # Check if they're changing\n",
        "      if np.allclose(ncc, self.cs):\n",
        "        print(f\"[Iter {i}]: Cluster centers stagnated\")\n",
        "        break   # Can't change anything\n",
        "      else:\n",
        "        self.cs = ncc # New cluster centers calculated\n",
        "    return cga\n",
        "  \n",
        "  # Initial Cluster Center: Forgy initialization\n",
        "  def icc_forgy(self):\n",
        "    # Select 'k' random data items as cluster centers\n",
        "    cs_i = np.random.randint(0, self.x.shape[0], self.k)\n",
        "    self.cs = self.x[cs_i]  # Cluster centers initialized\n",
        "  \n",
        "  # Random initialization\n",
        "  def icc_rp(self):\n",
        "    # Random group assignment\n",
        "    i = np.random.randint(0, self.k, self.x.shape[0]) # Group index\n",
        "    # For every group, find the cluster center\n",
        "    self.cs = []\n",
        "    for g in range(self.k):\n",
        "      self.cs.append(np.mean(self.x[i==g], axis=0))\n",
        "    self.cs = np.array(self.cs)\n",
        "  \n",
        "  # Get the cluster each point belongs to (cluster group array)\n",
        "  def get_cga(self):\n",
        "    # Calculate the distance matrix\n",
        "    dist_mat = np.array([[self.dm(x, c) for c in self.cs] \n",
        "      for x in self.x])\n",
        "    # New cluster center indices\n",
        "    nccis = np.argmin(dist_mat, axis=1)\n",
        "    return nccis\n",
        "  \n",
        "  # Update cluster centers based on new cluster groups\n",
        "  def update_cs(self, cga):\n",
        "    # For every group, find the cluster center\n",
        "    ncc = []  # New Cluster Centers\n",
        "    for i in range(self.k):\n",
        "      ncc.append(np.mean(self.x[cga == i], axis=0))\n",
        "    ncc = np.array(ncc)\n",
        "    return ncc"
      ]
    },
    {
      "cell_type": "markdown",
      "metadata": {},
      "source": [
        "Example usage"
      ]
    },
    {
      "cell_type": "code",
      "execution_count": 132,
      "metadata": {},
      "outputs": [],
      "source": [
        "km_clf = KMeans(init_m=\"rp\")"
      ]
    },
    {
      "cell_type": "code",
      "execution_count": 134,
      "metadata": {},
      "outputs": [
        {
          "name": "stdout",
          "output_type": "stream",
          "text": [
            "[Iter 21]: Cluster centers stagnated\n"
          ]
        }
      ],
      "source": [
        "cga = km_clf.fit(x_train)"
      ]
    },
    {
      "cell_type": "markdown",
      "metadata": {},
      "source": [
        "## Section 1.2: Elbow and Silhouette Method\n",
        "\n",
        "Finding the optimal number of clusters using the two methods\n"
      ]
    },
    {
      "cell_type": "markdown",
      "metadata": {},
      "source": [
        "### Elbow Method\n",
        "\n",
        "Sum of squared distance of the data-points from the cluster centers has to be plotted (versus the number of clusters)\n",
        "\n",
        "https://www.geeksforgeeks.org/elbow-method-for-optimal-value-of-k-in-kmeans/"
      ]
    },
    {
      "cell_type": "code",
      "execution_count": null,
      "metadata": {},
      "outputs": [],
      "source": [
        "def elbow_vals(x_train, k_max = 5):\n",
        "    \n",
        "    pass"
      ]
    },
    {
      "cell_type": "code",
      "execution_count": null,
      "metadata": {},
      "outputs": [],
      "source": []
    },
    {
      "cell_type": "code",
      "execution_count": null,
      "metadata": {},
      "outputs": [],
      "source": []
    },
    {
      "cell_type": "code",
      "execution_count": 39,
      "metadata": {},
      "outputs": [],
      "source": [
        "k = 10"
      ]
    },
    {
      "cell_type": "code",
      "execution_count": 46,
      "metadata": {},
      "outputs": [],
      "source": [
        "i = np.random.randint(0, k, x_train.shape[0])"
      ]
    },
    {
      "cell_type": "code",
      "execution_count": 60,
      "metadata": {},
      "outputs": [
        {
          "data": {
            "text/plain": [
              "(784,)"
            ]
          },
          "execution_count": 60,
          "metadata": {},
          "output_type": "execute_result"
        }
      ],
      "source": [
        "np.mean(x_train[i == 0], axis=0).shape"
      ]
    },
    {
      "cell_type": "code",
      "execution_count": 61,
      "metadata": {},
      "outputs": [],
      "source": [
        "a = np.random.rand(3, 4)"
      ]
    },
    {
      "cell_type": "code",
      "execution_count": 62,
      "metadata": {},
      "outputs": [
        {
          "data": {
            "text/plain": [
              "array([[0.34889794, 0.3402957 , 0.22694748, 0.07967342],\n",
              "       [0.00492013, 0.60374049, 0.88856973, 0.63107339],\n",
              "       [0.99968048, 0.53905343, 0.06054874, 0.87025992]])"
            ]
          },
          "execution_count": 62,
          "metadata": {},
          "output_type": "execute_result"
        }
      ],
      "source": [
        "a"
      ]
    },
    {
      "cell_type": "code",
      "execution_count": 64,
      "metadata": {},
      "outputs": [
        {
          "data": {
            "text/plain": [
              "array([0.45116619, 0.49436321, 0.39202198, 0.52700224])"
            ]
          },
          "execution_count": 64,
          "metadata": {},
          "output_type": "execute_result"
        }
      ],
      "source": [
        "np.mean(a, axis=0)"
      ]
    },
    {
      "cell_type": "code",
      "execution_count": null,
      "metadata": {},
      "outputs": [],
      "source": []
    },
    {
      "cell_type": "code",
      "execution_count": 54,
      "metadata": {},
      "outputs": [
        {
          "data": {
            "text/plain": [
              "(500, 784)"
            ]
          },
          "execution_count": 54,
          "metadata": {},
          "output_type": "execute_result"
        }
      ],
      "source": [
        "x_train.shape"
      ]
    },
    {
      "cell_type": "code",
      "execution_count": null,
      "metadata": {},
      "outputs": [],
      "source": []
    },
    {
      "cell_type": "code",
      "execution_count": null,
      "metadata": {},
      "outputs": [],
      "source": []
    },
    {
      "cell_type": "code",
      "execution_count": 14,
      "metadata": {
        "id": "yY8uMDe9quTE"
      },
      "outputs": [],
      "source": [
        "#implement elbow method from scratch\n",
        "def elbow():\n",
        "    pass"
      ]
    },
    {
      "cell_type": "code",
      "execution_count": 15,
      "metadata": {
        "id": "32x9M36qq2fO"
      },
      "outputs": [],
      "source": [
        "#implement silhouette method from scratch\n",
        "def silhouette():\n",
        "    pass"
      ]
    },
    {
      "cell_type": "markdown",
      "metadata": {},
      "source": [
        "## Section: Visualize using tSNE"
      ]
    },
    {
      "cell_type": "code",
      "execution_count": 17,
      "metadata": {},
      "outputs": [],
      "source": [
        "# Convert the x_train to 2D embedding\n",
        "x_in = x_train\n",
        "x_out = TSNE(n_components=2, learning_rate='auto',init='random').\\\n",
        "    fit_transform(x_in)\n",
        "# Markers for labels: https://matplotlib.org/stable/api/markers_api.html\n",
        "y_m = {\n",
        "    0: \"o\", 1: \"v\", 2: \"^\", 3: \"<\", 4: \">\", 5: \"1\", 6: \"2\", 7: \"3\",\n",
        "    8: \"4\", 9: \"s\"\n",
        "}\n",
        "# Dictionary\n",
        "y_dct = dict()\n",
        "# Fill the dictionary\n",
        "for x, y in zip(x_out, y_train):\n",
        "    if y not in y_dct:\n",
        "        y_dct[y] = [x]\n",
        "    else:\n",
        "        y_dct[y].append(x)"
      ]
    },
    {
      "cell_type": "code",
      "execution_count": 99,
      "metadata": {},
      "outputs": [
        {
          "data": {
            "image/png": "[encoded data removed]",
            "text/plain": [
              "<Figure size 432x288 with 1 Axes>"
            ]
          },
          "metadata": {
            "needs_background": "light"
          },
          "output_type": "display_data"
        }
      ],
      "source": [
        "# Main tSNE plot\n",
        "plt.figure()\n",
        "plt.title(\"tSNE plot (Actual data)\")\n",
        "for y_c in y_dct:\n",
        "    x_d = np.array(y_dct[y_c])    # Data points\n",
        "    plt.scatter(x_d[:, 0], x_d[:, 1], marker=y_m[y_c])\n",
        "plt.show()"
      ]
    },
    {
      "cell_type": "markdown",
      "metadata": {},
      "source": [
        "---"
      ]
    },
    {
      "cell_type": "markdown",
      "metadata": {
        "id": "y4xDlZiaxs56"
      },
      "source": [
        "# Part 2: Agglomerative Hierarchical clustering on Fashion-MNIST dataset\n",
        "\n",
        "In this task, you need to implement Hierarchical clustering (agglomerative) on the same dataset. You can use [scikit-learn](https://scikit-learn.org/stable/modules/clustering.html#hierarchical-clustering) for this.\n",
        "\n",
        "1. Visualize a dendrogram and find out the optimal number of clusters with the help of Dendrogram. Explain the procedure.\n",
        "\n",
        "2. Implement Hierarchical clustering using\n",
        "    1. Single linkage\n",
        "    2. Complete linkage\n",
        "\n",
        "3. Visualize the clusters obtained using these linkages and compare the results"
      ]
    },
    {
      "cell_type": "code",
      "execution_count": null,
      "metadata": {},
      "outputs": [],
      "source": [
        "# Clustering\n"
      ]
    },
    {
      "cell_type": "code",
      "execution_count": null,
      "metadata": {
        "id": "wmTODerdxlht"
      },
      "outputs": [],
      "source": [
        "#visualize a dendrogram\n",
        "\n",
        "def dendrogram():\n",
        "    pass\n",
        " "
      ]
    },
    {
      "cell_type": "markdown",
      "metadata": {
        "id": "zhYTSCC-xx4T"
      },
      "source": [
        "**Question**: Explain the procedure to find the optimal number of clusters using dendogram\n",
        "\n",
        "Answer: </br>\n",
        "</br>\n",
        "</br>\n",
        "</br>\n",
        "\n",
        "\n",
        "\n"
      ]
    },
    {
      "cell_type": "code",
      "execution_count": null,
      "metadata": {
        "id": "ujBgFKzwyLWb"
      },
      "outputs": [],
      "source": [
        "#visualisation of clusters using single linkage and complete linkage\n",
        "\n"
      ]
    },
    {
      "cell_type": "markdown",
      "metadata": {
        "id": "WU459HN1yYHj"
      },
      "source": [
        "**Question:** Mention the differences observed using single and complete linkage:\n",
        "\n",
        "Answer: </br>\n",
        "</br>\n",
        "</br>\n",
        "</br>"
      ]
    }
  ],
  "metadata": {
    "colab": {
      "name": "Copy of Clustering.ipynb",
      "provenance": []
    },
    "kernelspec": {
      "display_name": "Python 3",
      "name": "python3"
    },
    "language_info": {
      "codemirror_mode": {
        "name": "ipython",
        "version": 3
      },
      "file_extension": ".py",
      "mimetype": "text/x-python",
      "name": "python",
      "nbconvert_exporter": "python",
      "pygments_lexer": "ipython3",
      "version": "3.9.7"
    }
  },
  "nbformat": 4,
  "nbformat_minor": 0
}
